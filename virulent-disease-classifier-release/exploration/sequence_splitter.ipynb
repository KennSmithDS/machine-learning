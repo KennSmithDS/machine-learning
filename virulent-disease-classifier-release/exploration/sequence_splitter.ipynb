{
 "cells": [
  {
   "cell_type": "markdown",
   "metadata": {},
   "source": [
    "## This notebook was originally created to split ~2M virus sequences, which were later found out to be >95% incomplete sequences.  The notebook takes in nucleotide sequences and splits them on if they are valid or not.  Valid here means that the nucleotides are only ATCG, and don't contain placeholders or other letters that would break the translation and protein analysis component downstream.  After this was ran once on the ~2M rows, it was never used again, although some of the code was reused, like the validate sequence method. "
   ]
  },
  {
   "cell_type": "code",
   "execution_count": 1,
   "metadata": {},
   "outputs": [],
   "source": [
    "# import needed libraries from BioPython and Pandas to create dataframe from valid sequences\n",
    "from Bio import SeqIO\n",
    "import pandas as pd\n",
    "from pathlib import Path\n",
    "from collections import Counter\n",
    "from tqdm import tqdm\n",
    "import os"
   ]
  },
  {
   "cell_type": "code",
   "execution_count": 2,
   "metadata": {},
   "outputs": [],
   "source": [
    "# these are the 4 valid nucleotides for a DNA sequence\n",
    "valid_nucs = [\"A\", \"T\", \"C\", \"G\"]"
   ]
  },
  {
   "cell_type": "code",
   "execution_count": 3,
   "metadata": {},
   "outputs": [],
   "source": [
    "# function that returns a dictionary of a count of each nucleotide letter\n",
    "def countNucleotides(seq):\n",
    "    nuc_dict = dict(Counter(seq))\n",
    "    return nuc_dict"
   ]
  },
  {
   "cell_type": "code",
   "execution_count": 4,
   "metadata": {},
   "outputs": [],
   "source": [
    "# validates if a string sequence from FASTA file only contains the 4 nucleotides above\n",
    "def validateSeq(seq):\n",
    "    nuc_count = countNucleotides(str(seq.seq))\n",
    "    for key in nuc_count:\n",
    "        if key not in valid_nucs:\n",
    "            return False\n",
    "    return True"
   ]
  },
  {
   "cell_type": "code",
   "execution_count": 5,
   "metadata": {},
   "outputs": [],
   "source": [
    "# identify path to fasta file (because in parent not in current)\n",
    "current_path = os.getcwd()\n",
    "file_name = 'pathogenic_nucleotide_sequences.fasta'\n",
    "current_path = Path(current_path)\n",
    "parent_path = current_path.parent\n",
    "file_path = os.path.join(parent_path, file_name)"
   ]
  },
  {
   "cell_type": "code",
   "execution_count": 13,
   "metadata": {},
   "outputs": [],
   "source": [
    "file_name = 'non_pathogenic_sequences.fasta'"
   ]
  },
  {
   "cell_type": "code",
   "execution_count": 14,
   "metadata": {},
   "outputs": [],
   "source": [
    "# import fasta file nucleotide sequences\n",
    "nucleotides = list(SeqIO.parse(file_name, 'fasta'))"
   ]
  },
  {
   "cell_type": "code",
   "execution_count": 15,
   "metadata": {},
   "outputs": [
    {
     "data": {
      "text/plain": [
       "11847"
      ]
     },
     "execution_count": 15,
     "metadata": {},
     "output_type": "execute_result"
    }
   ],
   "source": [
    "# determine length of fasta file\n",
    "len(nucleotides)"
   ]
  },
  {
   "cell_type": "code",
   "execution_count": 16,
   "metadata": {},
   "outputs": [
    {
     "name": "stderr",
     "output_type": "stream",
     "text": [
      "100%|███████████████████████████████████████████████████████████████████████████████████████████████████████████████████| 11847/11847 [00:15<00:00, 774.14it/s]\n"
     ]
    }
   ],
   "source": [
    "# Extract fields from nucleotide sequences: seq, id, name, description\n",
    "# test_seqs = nucleotides[0:5]\n",
    "\n",
    "valid_list = []\n",
    "invalid_list = []\n",
    "\n",
    "for seq in tqdm(nucleotides):\n",
    "    seq_dict = {}\n",
    "    seq_dict['seq_id'] = seq.id\n",
    "    seq_dict['seq_name'] = seq.name\n",
    "    seq_dict['seq_desc'] = seq.description\n",
    "    seq_dict['seq_str'] = str(seq.seq)\n",
    "    \n",
    "    if validateSeq(seq):\n",
    "        valid_list.append(seq_dict)\n",
    "    else:\n",
    "        invalid_list.append(seq_dict)"
   ]
  },
  {
   "cell_type": "code",
   "execution_count": 17,
   "metadata": {},
   "outputs": [
    {
     "name": "stdout",
     "output_type": "stream",
     "text": [
      "11442\n",
      "405\n"
     ]
    }
   ],
   "source": [
    "print(len(valid_list))\n",
    "print(len(invalid_list))"
   ]
  },
  {
   "cell_type": "code",
   "execution_count": 18,
   "metadata": {},
   "outputs": [],
   "source": [
    "# build a dataframe from the valid_list of sequences and save to csv\n",
    "valid_df = pd.DataFrame(valid_list)\n",
    "valid_df.to_csv('valid_non_virulent_sequences.csv', index=False)"
   ]
  },
  {
   "cell_type": "code",
   "execution_count": 19,
   "metadata": {},
   "outputs": [],
   "source": [
    "# build a dataframe from the invalid_list of sequences and save to csv\n",
    "invalid_df = pd.DataFrame(invalid_list)\n",
    "invalid_df.to_csv('invalid_non_virulent_sequences.csv', index=False)"
   ]
  },
  {
   "cell_type": "markdown",
   "metadata": {},
   "source": [
    "### Run after splitting both virulent and non-virulent fasta files"
   ]
  },
  {
   "cell_type": "code",
   "execution_count": 20,
   "metadata": {},
   "outputs": [],
   "source": [
    "vir = 'valid_virulent_sequences.csv'\n",
    "non_vir = 'valid_non_virulent_sequences.csv'"
   ]
  },
  {
   "cell_type": "code",
   "execution_count": 21,
   "metadata": {},
   "outputs": [
    {
     "name": "stdout",
     "output_type": "stream",
     "text": [
      "32893\n"
     ]
    }
   ],
   "source": [
    "vir_df = pd.read_csv(vir)\n",
    "print(len(vir_df))"
   ]
  },
  {
   "cell_type": "code",
   "execution_count": 22,
   "metadata": {},
   "outputs": [
    {
     "name": "stdout",
     "output_type": "stream",
     "text": [
      "11442\n"
     ]
    }
   ],
   "source": [
    "non_vir_df = pd.read_csv(non_vir)\n",
    "print(len(non_vir_df))"
   ]
  },
  {
   "cell_type": "code",
   "execution_count": null,
   "metadata": {},
   "outputs": [],
   "source": []
  }
 ],
 "metadata": {
  "kernelspec": {
   "display_name": "Python 3",
   "language": "python",
   "name": "python3"
  },
  "language_info": {
   "codemirror_mode": {
    "name": "ipython",
    "version": 3
   },
   "file_extension": ".py",
   "mimetype": "text/x-python",
   "name": "python",
   "nbconvert_exporter": "python",
   "pygments_lexer": "ipython3",
   "version": "3.7.7"
  }
 },
 "nbformat": 4,
 "nbformat_minor": 4
}
