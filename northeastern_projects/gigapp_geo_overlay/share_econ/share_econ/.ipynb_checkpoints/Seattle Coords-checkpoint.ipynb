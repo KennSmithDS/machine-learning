{
 "cells": [
  {
   "cell_type": "code",
   "execution_count": 16,
   "metadata": {},
   "outputs": [],
   "source": [
    "import pandas as pd\n",
    "import json\n",
    "import geopandas\n",
    "import matplotlib.pyplot as plt\n",
    "from geojson import Feature, FeatureCollection, Point, MultiLineString"
   ]
  },
  {
   "cell_type": "code",
   "execution_count": 5,
   "metadata": {},
   "outputs": [],
   "source": [
    "with open('seattle_routes.json') as j_file:\n",
    "    json_data = json.load(j_file)"
   ]
  },
  {
   "cell_type": "code",
   "execution_count": 6,
   "metadata": {},
   "outputs": [
    {
     "data": {
      "text/plain": [
       "4310"
      ]
     },
     "execution_count": 6,
     "metadata": {},
     "output_type": "execute_result"
    }
   ],
   "source": [
    "len(json_data)"
   ]
  },
  {
   "cell_type": "code",
   "execution_count": 7,
   "metadata": {},
   "outputs": [
    {
     "data": {
      "text/plain": [
       "list"
      ]
     },
     "execution_count": 7,
     "metadata": {},
     "output_type": "execute_result"
    }
   ],
   "source": [
    "type(json_data)"
   ]
  },
  {
   "cell_type": "code",
   "execution_count": 8,
   "metadata": {},
   "outputs": [],
   "source": [
    "df = pd.DataFrame(json_data)"
   ]
  },
  {
   "cell_type": "code",
   "execution_count": 9,
   "metadata": {},
   "outputs": [
    {
     "data": {
      "text/html": [
       "<div>\n",
       "<style scoped>\n",
       "    .dataframe tbody tr th:only-of-type {\n",
       "        vertical-align: middle;\n",
       "    }\n",
       "\n",
       "    .dataframe tbody tr th {\n",
       "        vertical-align: top;\n",
       "    }\n",
       "\n",
       "    .dataframe thead th {\n",
       "        text-align: right;\n",
       "    }\n",
       "</style>\n",
       "<table border=\"1\" class=\"dataframe\">\n",
       "  <thead>\n",
       "    <tr style=\"text-align: right;\">\n",
       "      <th></th>\n",
       "      <th>start_address</th>\n",
       "      <th>end_address</th>\n",
       "      <th>start_coords</th>\n",
       "      <th>end_coords</th>\n",
       "      <th>total_distance</th>\n",
       "      <th>unit_distance</th>\n",
       "      <th>step_list</th>\n",
       "    </tr>\n",
       "  </thead>\n",
       "  <tbody>\n",
       "    <tr>\n",
       "      <th>0</th>\n",
       "      <td>1900 5th Ave, Seattle, WA 98101, USA</td>\n",
       "      <td>601 N 34th St, Seattle, WA 98103, USA</td>\n",
       "      <td>[47.614221, -122.3380349]</td>\n",
       "      <td>[47.6489043, -122.3504975]</td>\n",
       "      <td>3.3</td>\n",
       "      <td>mi</td>\n",
       "      <td>[[47.614221, -122.3380349], [47.6174767, -122....</td>\n",
       "    </tr>\n",
       "    <tr>\n",
       "      <th>1</th>\n",
       "      <td>808 Howell St, Seattle, WA 98101, USA</td>\n",
       "      <td>Boren Ave N, Seattle, WA 98109, USA</td>\n",
       "      <td>[47.6152935, -122.3339057]</td>\n",
       "      <td>[47.622129, -122.3358333]</td>\n",
       "      <td>0.7</td>\n",
       "      <td>mi</td>\n",
       "      <td>[[47.6152935, -122.3339057], [47.6148485999999...</td>\n",
       "    </tr>\n",
       "    <tr>\n",
       "      <th>2</th>\n",
       "      <td>808 Howell St, Seattle, WA 98101, USA</td>\n",
       "      <td>Seattle, WA, USA</td>\n",
       "      <td>[47.6146241, -122.3348153]</td>\n",
       "      <td>[47.6063821, -122.3322283]</td>\n",
       "      <td>0.8</td>\n",
       "      <td>mi</td>\n",
       "      <td>[[47.6146241, -122.3348153], [47.6149417, -122...</td>\n",
       "    </tr>\n",
       "    <tr>\n",
       "      <th>3</th>\n",
       "      <td>808 Howell St, Seattle, WA 98101, USA</td>\n",
       "      <td>500 9th Ave N, Seattle, WA 98109, USA</td>\n",
       "      <td>[47.6146241, -122.3348153]</td>\n",
       "      <td>[47.6237794, -122.3397585]</td>\n",
       "      <td>0.8</td>\n",
       "      <td>mi</td>\n",
       "      <td>[[47.6146241, -122.3348153], [47.6180248999999...</td>\n",
       "    </tr>\n",
       "    <tr>\n",
       "      <th>4</th>\n",
       "      <td>1101 Dexter Ave N, Seattle, WA 98109, USA</td>\n",
       "      <td>14408 NE 20th St, Bellevue, WA 98007, USA</td>\n",
       "      <td>[47.6288578, -122.3423083]</td>\n",
       "      <td>[47.6292795, -122.1476037]</td>\n",
       "      <td>11.0</td>\n",
       "      <td>mi</td>\n",
       "      <td>[[47.6288578, -122.3423083], [47.6245434999999...</td>\n",
       "    </tr>\n",
       "  </tbody>\n",
       "</table>\n",
       "</div>"
      ],
      "text/plain": [
       "                               start_address  \\\n",
       "0       1900 5th Ave, Seattle, WA 98101, USA   \n",
       "1      808 Howell St, Seattle, WA 98101, USA   \n",
       "2      808 Howell St, Seattle, WA 98101, USA   \n",
       "3      808 Howell St, Seattle, WA 98101, USA   \n",
       "4  1101 Dexter Ave N, Seattle, WA 98109, USA   \n",
       "\n",
       "                                 end_address                start_coords  \\\n",
       "0      601 N 34th St, Seattle, WA 98103, USA   [47.614221, -122.3380349]   \n",
       "1        Boren Ave N, Seattle, WA 98109, USA  [47.6152935, -122.3339057]   \n",
       "2                           Seattle, WA, USA  [47.6146241, -122.3348153]   \n",
       "3      500 9th Ave N, Seattle, WA 98109, USA  [47.6146241, -122.3348153]   \n",
       "4  14408 NE 20th St, Bellevue, WA 98007, USA  [47.6288578, -122.3423083]   \n",
       "\n",
       "                   end_coords  total_distance unit_distance  \\\n",
       "0  [47.6489043, -122.3504975]             3.3            mi   \n",
       "1   [47.622129, -122.3358333]             0.7            mi   \n",
       "2  [47.6063821, -122.3322283]             0.8            mi   \n",
       "3  [47.6237794, -122.3397585]             0.8            mi   \n",
       "4  [47.6292795, -122.1476037]            11.0            mi   \n",
       "\n",
       "                                           step_list  \n",
       "0  [[47.614221, -122.3380349], [47.6174767, -122....  \n",
       "1  [[47.6152935, -122.3339057], [47.6148485999999...  \n",
       "2  [[47.6146241, -122.3348153], [47.6149417, -122...  \n",
       "3  [[47.6146241, -122.3348153], [47.6180248999999...  \n",
       "4  [[47.6288578, -122.3423083], [47.6245434999999...  "
      ]
     },
     "execution_count": 9,
     "metadata": {},
     "output_type": "execute_result"
    }
   ],
   "source": [
    "df.head()"
   ]
  },
  {
   "cell_type": "code",
   "execution_count": 45,
   "metadata": {},
   "outputs": [],
   "source": [
    "# plt.figure()\n",
    "# ax = plt.axes()\n",
    "# ax.set_aspect('equal')\n",
    "# df_dims = df.step_list.shape\n",
    "# x_lon = np.zeros(len(df_dims),1)\n",
    "# x_lat = np.zeros(len(df_dims),1)\n",
    "# for i in range(df_dims):\n",
    "#     x_lon[i] = "
   ]
  },
  {
   "cell_type": "code",
   "execution_count": null,
   "metadata": {},
   "outputs": [],
   "source": []
  },
  {
   "cell_type": "code",
   "execution_count": 39,
   "metadata": {},
   "outputs": [],
   "source": []
  },
  {
   "cell_type": "code",
   "execution_count": 40,
   "metadata": {},
   "outputs": [],
   "source": [
    "features = []\n",
    "for path in df.loc[:, 'step_list']:\n",
    "#     print(path)\n",
    "    mls = MultiLineString([(x[1], x[0]) for x in path])\n",
    "#     print(type(mls))\n",
    "    features.append(Feature(geometry=mls))\n",
    "gfc = FeatureCollection(features)"
   ]
  },
  {
   "cell_type": "code",
   "execution_count": 43,
   "metadata": {},
   "outputs": [],
   "source": [
    "with open('seattle_routes.geojson', 'w', encoding='utf-8') as gj_file:\n",
    "    json.dump(gfc, gj_file)"
   ]
  },
  {
   "cell_type": "code",
   "execution_count": null,
   "metadata": {},
   "outputs": [],
   "source": []
  }
 ],
 "metadata": {
  "kernelspec": {
   "display_name": "Python 3",
   "language": "python",
   "name": "python3"
  },
  "language_info": {
   "codemirror_mode": {
    "name": "ipython",
    "version": 3
   },
   "file_extension": ".py",
   "mimetype": "text/x-python",
   "name": "python",
   "nbconvert_exporter": "python",
   "pygments_lexer": "ipython3",
   "version": "3.7.7"
  }
 },
 "nbformat": 4,
 "nbformat_minor": 4
}
