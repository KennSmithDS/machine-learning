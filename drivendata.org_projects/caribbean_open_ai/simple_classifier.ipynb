{
 "cells": [
  {
   "cell_type": "code",
   "execution_count": null,
   "metadata": {},
   "outputs": [],
   "source": [
    "import os\n",
    "from glob import glob\n",
    "\n",
    "from keras.layers import Input, Lambda, Dense, Flatten\n",
    "from keras.models import Model\n",
    "from keras.applications.vgg16 import VGG16, preprocess_input\n",
    "from keras.preprocessing import image\n",
    "from keras.preprocessing.image import ImageDataGenerator\n",
    "\n",
    "from sklearn.metrics import confusion_matrix\n",
    "import numpy as np\n",
    "import matplotlib.pyplot as plt"
   ]
  },
  {
   "cell_type": "code",
   "execution_count": null,
   "metadata": {},
   "outputs": [],
   "source": [
    "from tensorflow.python.client import device_lib\n",
    "print(device_lib.list_local_devices())"
   ]
  },
  {
   "cell_type": "code",
   "execution_count": null,
   "metadata": {},
   "outputs": [],
   "source": [
    "image_size = [150,150]\n",
    "epochs = 20\n",
    "batch_size = 32\n",
    "img_ext = '/*/*.tif'"
   ]
  },
  {
   "cell_type": "code",
   "execution_count": null,
   "metadata": {},
   "outputs": [],
   "source": [
    "train_path = 'Training'\n",
    "test_path = 'Validation'\n",
    "train_image_files = glob(train_path + img_ext)\n",
    "test_image_files = glob(test_path + img_ext)\n",
    "folders = glob(train_path + '/*')"
   ]
  },
  {
   "cell_type": "code",
   "execution_count": null,
   "metadata": {},
   "outputs": [],
   "source": [
    "folders"
   ]
  },
  {
   "cell_type": "code",
   "execution_count": null,
   "metadata": {},
   "outputs": [],
   "source": [
    "vgg = VGG16(input_shape=image_size + [3], weights='imagenet', include_top=False)\n",
    "\n",
    "for layer in vgg.layers:\n",
    "    layer.trainable=False\n",
    "    \n",
    "x = Flatten()(vgg.output)\n",
    "prediction = Dense(len(folders), activation='softmax')(x)\n",
    "model = Model(inputs=vgg.input, outputs=prediction)\n",
    "model.summary()"
   ]
  },
  {
   "cell_type": "code",
   "execution_count": null,
   "metadata": {},
   "outputs": [],
   "source": [
    "model.compile(\n",
    "    loss='categorical_crossentropy',\n",
    "    optimizer='rmsprop',\n",
    "    metrics=['accuracy']\n",
    ")"
   ]
  },
  {
   "cell_type": "code",
   "execution_count": null,
   "metadata": {},
   "outputs": [],
   "source": [
    "gen = ImageDataGenerator(\n",
    "    rescale=1./255,\n",
    "    featurewise_center=True,\n",
    "    rotation_range=20,\n",
    "    width_shift_range=0.1,\n",
    "    height_shift_range=0.1,\n",
    "    shear_range=0.1,\n",
    "    zoom_range=0.2,\n",
    "    horizontal_flip=True,\n",
    "    vertical_flip=True,\n",
    "    preprocessing_function=preprocess_input,\n",
    ")"
   ]
  },
  {
   "cell_type": "code",
   "execution_count": null,
   "metadata": {},
   "outputs": [],
   "source": [
    "test_gen = gen.flow_from_directory(test_path, target_size=image_size)\n",
    "print(test_gen.class_indices)"
   ]
  },
  {
   "cell_type": "code",
   "execution_count": null,
   "metadata": {},
   "outputs": [],
   "source": [
    "labels = [None] * len(test_gen.class_indices)\n",
    "for k, v in test_gen.class_indices.items():\n",
    "    labels[v] = k"
   ]
  },
  {
   "cell_type": "code",
   "execution_count": null,
   "metadata": {},
   "outputs": [],
   "source": [
    "for x, y in test_gen:\n",
    "    print('min:', x[1].min(), 'max:', x[1].max())\n",
    "    plt.title(labels[np.argmax(y[1])])\n",
    "    plt.imshow(x[1])\n",
    "    plt.show()\n",
    "    break"
   ]
  },
  {
   "cell_type": "code",
   "execution_count": null,
   "metadata": {},
   "outputs": [],
   "source": [
    "wtf_image_path = 'C:\\\\Users\\\\Kendall\\\\Documents\\\\DrivenData Competitions\\\\Open AI Caribbean\\\\Training\\\\concrete_cement\\\\7a1c6d7c.tif'"
   ]
  },
  {
   "cell_type": "code",
   "execution_count": null,
   "metadata": {},
   "outputs": [],
   "source": [
    "plt.imshow(image.load_img(wtf_image_path))"
   ]
  },
  {
   "cell_type": "code",
   "execution_count": null,
   "metadata": {},
   "outputs": [],
   "source": [
    "wtf_image = image.load_img(wtf_image_path)"
   ]
  },
  {
   "cell_type": "code",
   "execution_count": null,
   "metadata": {},
   "outputs": [],
   "source": [
    "wtf_image"
   ]
  },
  {
   "cell_type": "code",
   "execution_count": null,
   "metadata": {},
   "outputs": [],
   "source": [
    "train_generator = gen.flow_from_directory(\n",
    "    train_path,\n",
    "    target_size=image_size,\n",
    "    shuffle=True,\n",
    "    batch_size=batch_size\n",
    ")"
   ]
  },
  {
   "cell_type": "code",
   "execution_count": null,
   "metadata": {},
   "outputs": [],
   "source": [
    "test_generator = gen.flow_from_directory(\n",
    "    test_path,\n",
    "    target_size=image_size,\n",
    "    shuffle=True,\n",
    "    batch_size=batch_size\n",
    ")"
   ]
  },
  {
   "cell_type": "code",
   "execution_count": null,
   "metadata": {},
   "outputs": [],
   "source": [
    "fitted_model = model.fit_generator(\n",
    "    train_generator,\n",
    "    validation_data=test_generator,\n",
    "    epochs=epochs,\n",
    "    steps_per_epoch=len(train_image_files) // batch_size,\n",
    "    validation_steps=len(test_image_files) // batch_size\n",
    ")"
   ]
  },
  {
   "cell_type": "code",
   "execution_count": null,
   "metadata": {},
   "outputs": [],
   "source": [
    "def get_confusion_matrix(data_path, N):\n",
    "    print('Generating confusion matrix', N)\n",
    "    predictions = []\n",
    "    targets = []\n",
    "    i = 0\n",
    "    for x, y in gen.flow_from_directory(data_path,\n",
    "                                       target_size=image_size,\n",
    "                                       shuffle=False,\n",
    "                                       batch_size=batch_size):\n",
    "        i += 1\n",
    "        if i % 50 == 0:\n",
    "            print(i)\n",
    "        p = model.predict(x)\n",
    "        p = np.argmax(p, axis=1)\n",
    "        y = np.argmax(y, axis=1)\n",
    "        \n",
    "        predictions = np.concatenate((predictions, p))\n",
    "        targets = np.concatenate((targets, y))\n",
    "        \n",
    "        if len(targets) >= N:\n",
    "            break\n",
    "        \n",
    "    cm = confusion_matrix(targets, predictions)\n",
    "    return cm"
   ]
  },
  {
   "cell_type": "code",
   "execution_count": null,
   "metadata": {},
   "outputs": [],
   "source": [
    "cm = get_confusion_matrix(train_path, len(train_image_files))\n",
    "print(cm)"
   ]
  },
  {
   "cell_type": "code",
   "execution_count": null,
   "metadata": {},
   "outputs": [],
   "source": [
    "test_cm = get_confusion_matrix(test_path, len(test_image_files))\n",
    "print(test_cm)"
   ]
  },
  {
   "cell_type": "code",
   "execution_count": null,
   "metadata": {},
   "outputs": [],
   "source": [
    "plt.plot(fitted_model.history['loss'], label='training loss')\n",
    "plt.plot(fitted_model.history['val_loss'], label='validation loss')\n",
    "plt.legend()\n",
    "plt.show()"
   ]
  },
  {
   "cell_type": "code",
   "execution_count": null,
   "metadata": {},
   "outputs": [],
   "source": [
    "plt.plot(fitted_model.history['acc'], label='training accuracy')\n",
    "plt.plot(fitted_model.history['val_acc'], label='validation accuracy')\n",
    "plt.legend()\n",
    "plt.show()"
   ]
  },
  {
   "cell_type": "code",
   "execution_count": null,
   "metadata": {},
   "outputs": [],
   "source": [
    "from util import plot_confusion_matrix\n",
    "plot_confusion_matrix(cm, labels, title='Training confusion matrix')\n",
    "plot_confusion_matrix(test_cm, labels, title='Validation confusion matrix')"
   ]
  },
  {
   "cell_type": "code",
   "execution_count": null,
   "metadata": {},
   "outputs": [],
   "source": [
    "# serialize model to YAML\n",
    "model_yaml = model.to_yaml()\n",
    "with open(\"model.yaml\", \"w\") as yaml_file:\n",
    "    yaml_file.write(model_yaml)\n",
    "# serialize weights to HDF5\n",
    "model.save_weights(\"model.h5\")\n",
    "print(\"Saved model to disk\")"
   ]
  },
  {
   "cell_type": "code",
   "execution_count": null,
   "metadata": {},
   "outputs": [],
   "source": [
    "os.listdir(pred_path)"
   ]
  },
  {
   "cell_type": "code",
   "execution_count": null,
   "metadata": {},
   "outputs": [],
   "source": [
    "pred_img_ext = '/*.tif'\n",
    "\n",
    "pred_path = 'competition_prediction'\n",
    "pred_image_files = glob(pred_path + pred_img_ext)\n",
    "\n",
    "predictions = []\n",
    "targets = []\n",
    "i = 0"
   ]
  },
  {
   "cell_type": "code",
   "execution_count": null,
   "metadata": {},
   "outputs": [],
   "source": [
    "pred_image_files[0]"
   ]
  },
  {
   "cell_type": "code",
   "execution_count": null,
   "metadata": {},
   "outputs": [],
   "source": [
    "pred_datagen = ImageDataGenerator(rescale=1./255)\n",
    "\n",
    "# pred_generator = pred_datagen.flow_from_directory(pred_path,\n",
    "#                               target_size=image_size,\n",
    "#                               shuffle=False,\n",
    "#                               batch_size=batch_size)\n",
    "\n",
    "# pred_generator = pred_datagen(pred_path,\n",
    "#                              classes=['test'],\n",
    "#                              class_mode=None,\n",
    "#                              shuffle=False,\n",
    "#                              target_size=(150,150))\n",
    "\n",
    "# preds = model.predict_generator(pred_generator)\n",
    "\n",
    "# test_generator = test_datagen('PATH_TO_DATASET_DIR/Dataset',\n",
    "#                               # only read images from `test` directory\n",
    "#                               classes=['test'],\n",
    "#                               # don't generate labels\n",
    "#                               class_mode=None,\n",
    "#                               # don't shuffle\n",
    "#                               shuffle=False,\n",
    "#                               # use same size as in training\n",
    "#                               target_size=(299, 299))\n",
    "\n",
    "# preds = model.predict_generator(test_generator)\n",
    "\n",
    "pred_generator = pred_datagen.flow_from_directory(\n",
    "    directory=pred_path,\n",
    "    class_mode=None,\n",
    "    shuffle=False\n",
    ")\n",
    "\n",
    "# for x, y in pred_generator:\n",
    "#     print(x)\n",
    "# for file in gen.filenames:\n",
    "#     print(file)\n",
    "    \n",
    "# for x, y in gen.flow_from_directory(pred_path,\n",
    "#                               target_size=image_size,\n",
    "#                               shuffle=False,\n",
    "#                               batch_size=batch_size):\n",
    "#     i += 1\n",
    "#     y_pred = model.predict(x)\n",
    "    \n",
    "#     if len(targets) >= len(pred_image_files):\n",
    "#         break"
   ]
  },
  {
   "cell_type": "code",
   "execution_count": null,
   "metadata": {},
   "outputs": [],
   "source": [
    "type(pred_generator)"
   ]
  },
  {
   "cell_type": "code",
   "execution_count": null,
   "metadata": {},
   "outputs": [],
   "source": [
    "i = 0\n",
    "\n",
    "for file in pred_image_files:\n",
    "    file_name = file\n",
    "    print(file_name)\n",
    "    \n",
    "    image_file = image.load_img(file_name)\n",
    "    plt.imshow(image_file)\n",
    "    plt.show()\n",
    "    \n",
    "    print(type(image_file))\n",
    "    print(image_file.format)\n",
    "    print(image_file.mode)\n",
    "    print(image_file.size)\n",
    "    \n",
    "    image_array = image.img_to_array(image_file)\n",
    "    print(image_array.shape)\n",
    "\n",
    "    y_pred = model.predict(image_array)\n",
    "    \n",
    "    print(y_pred)\n",
    "    \n",
    "    i += 1\n",
    "    if i >= 1:\n",
    "        break"
   ]
  },
  {
   "cell_type": "code",
   "execution_count": null,
   "metadata": {},
   "outputs": [],
   "source": []
  }
 ],
 "metadata": {
  "kernelspec": {
   "display_name": "Python 3",
   "language": "python",
   "name": "python3"
  },
  "language_info": {
   "codemirror_mode": {
    "name": "ipython",
    "version": 3
   },
   "file_extension": ".py",
   "mimetype": "text/x-python",
   "name": "python",
   "nbconvert_exporter": "python",
   "pygments_lexer": "ipython3",
   "version": "3.7.6"
  }
 },
 "nbformat": 4,
 "nbformat_minor": 2
}
