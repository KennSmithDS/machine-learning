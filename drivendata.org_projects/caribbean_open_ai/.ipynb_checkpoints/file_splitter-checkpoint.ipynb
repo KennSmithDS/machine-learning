{
 "cells": [
  {
   "cell_type": "code",
   "execution_count": null,
   "metadata": {},
   "outputs": [],
   "source": [
    "import os, shutil\n",
    "from glob import glob\n",
    "import numpy as np\n",
    "import random\n",
    "from keras.preprocessing import image\n",
    "import matplotlib.pyplot as plt"
   ]
  },
  {
   "cell_type": "code",
   "execution_count": null,
   "metadata": {},
   "outputs": [],
   "source": [
    "root_train_folder = 'Training'\n",
    "root_test_folder = 'Validation'"
   ]
  },
  {
   "cell_type": "code",
   "execution_count": null,
   "metadata": {},
   "outputs": [],
   "source": [
    "categories = [folder for folder in os.listdir(root_train_folder)]"
   ]
  },
  {
   "cell_type": "code",
   "execution_count": null,
   "metadata": {},
   "outputs": [],
   "source": [
    "categories"
   ]
  },
  {
   "cell_type": "code",
   "execution_count": null,
   "metadata": {},
   "outputs": [],
   "source": [
    "for category in categories:\n",
    "    category_folder = os.path.join(root_test_folder,category)\n",
    "    if not os.path.exists(category_folder):\n",
    "        os.mkdir(category_folder)"
   ]
  },
  {
   "cell_type": "code",
   "execution_count": null,
   "metadata": {},
   "outputs": [],
   "source": [
    "train_path = os.path.abspath(root_train_folder)\n",
    "test_path = os.path.abspath(root_test_folder)"
   ]
  },
  {
   "cell_type": "code",
   "execution_count": null,
   "metadata": {},
   "outputs": [],
   "source": [
    "train_path"
   ]
  },
  {
   "cell_type": "code",
   "execution_count": null,
   "metadata": {},
   "outputs": [],
   "source": [
    "images_files = glob(train_path + '/*/*.tif')"
   ]
  },
  {
   "cell_type": "code",
   "execution_count": null,
   "metadata": {},
   "outputs": [],
   "source": [
    "images_files[0]"
   ]
  },
  {
   "cell_type": "code",
   "execution_count": null,
   "metadata": {},
   "outputs": [],
   "source": [
    "for category in categories:\n",
    "    # generate a list of image files for each category folder\n",
    "    category_train_path = os.path.join(train_path, category)\n",
    "    \n",
    "    category_files = glob(category_train_path + '/*.tif')\n",
    "    print(f'Found {len(category_files)} image files in {category_train_path}')\n",
    "    \n",
    "    # calculate the sample size for each category training path\n",
    "    sample_size = int(round(len(category_files)*.2, 0))\n",
    "    print(f'Sample size of {sample_size} images to transfer to validation folders')\n",
    "    \n",
    "    # display a random sample image from each folder\n",
    "    plt.imshow(image.load_img(np.random.choice(category_files)))\n",
    "    plt.show()\n",
    "    \n",
    "    # move random number of images into category validation path\n",
    "    sample_images = random.sample(category_files, sample_size)\n",
    "    \n",
    "    for sample_image in sample_images:\n",
    "        new_file_path = sample_image.replace('Training','Validation')\n",
    "        shutil.move(sample_image, new_file_path)\n",
    "    "
   ]
  },
  {
   "cell_type": "code",
   "execution_count": null,
   "metadata": {},
   "outputs": [],
   "source": []
  }
 ],
 "metadata": {
  "kernelspec": {
   "display_name": "Python 3",
   "language": "python",
   "name": "python3"
  },
  "language_info": {
   "codemirror_mode": {
    "name": "ipython",
    "version": 3
   },
   "file_extension": ".py",
   "mimetype": "text/x-python",
   "name": "python",
   "nbconvert_exporter": "python",
   "pygments_lexer": "ipython3",
   "version": "3.7.6"
  }
 },
 "nbformat": 4,
 "nbformat_minor": 2
}
