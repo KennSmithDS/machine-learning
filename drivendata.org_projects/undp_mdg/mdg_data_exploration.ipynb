{
 "cells": [
  {
   "cell_type": "code",
   "execution_count": 42,
   "metadata": {},
   "outputs": [],
   "source": [
    "import pandas as pd\n",
    "import matplotlib.pyplot as plt\n",
    "import seaborn as sb\n",
    "import numpy as np\n",
    "import os, sys"
   ]
  },
  {
   "cell_type": "code",
   "execution_count": 3,
   "metadata": {},
   "outputs": [],
   "source": [
    "folder = 'C:\\\\Users\\\\Kendall\\\\Documents\\\\machine-learning\\\\drivendata.org_projects\\\\undp_mdg'\n",
    "data_file = 'TrainingSet.csv'\n",
    "file_path = os.path.join(folder, data_file)"
   ]
  },
  {
   "cell_type": "code",
   "execution_count": 4,
   "metadata": {},
   "outputs": [
    {
     "data": {
      "text/plain": [
       "'C:\\\\Users\\\\Kendall\\\\Documents\\\\machine-learning\\\\drivendata.org_projects\\\\undp_mdg\\\\TrainingSet.csv'"
      ]
     },
     "execution_count": 4,
     "metadata": {},
     "output_type": "execute_result"
    }
   ],
   "source": [
    "file_path"
   ]
  },
  {
   "cell_type": "code",
   "execution_count": 5,
   "metadata": {},
   "outputs": [],
   "source": [
    "data = pd.read_csv(file_path)"
   ]
  },
  {
   "cell_type": "code",
   "execution_count": 6,
   "metadata": {},
   "outputs": [
    {
     "name": "stdout",
     "output_type": "stream",
     "text": [
      "<class 'pandas.core.frame.DataFrame'>\n",
      "RangeIndex: 195402 entries, 0 to 195401\n",
      "Data columns (total 43 columns):\n",
      " #   Column         Non-Null Count   Dtype  \n",
      "---  ------         --------------   -----  \n",
      " 0   index          195402 non-null  int64  \n",
      " 1   pred           195402 non-null  bool   \n",
      " 2   1972 [YR1972]  64945 non-null   float64\n",
      " 3   1973 [YR1973]  64443 non-null   float64\n",
      " 4   1974 [YR1974]  64966 non-null   float64\n",
      " 5   1975 [YR1975]  66973 non-null   float64\n",
      " 6   1976 [YR1976]  67717 non-null   float64\n",
      " 7   1977 [YR1977]  69735 non-null   float64\n",
      " 8   1978 [YR1978]  69763 non-null   float64\n",
      " 9   1979 [YR1979]  69906 non-null   float64\n",
      " 10  1980 [YR1980]  75250 non-null   float64\n",
      " 11  1981 [YR1981]  78034 non-null   float64\n",
      " 12  1982 [YR1982]  79016 non-null   float64\n",
      " 13  1983 [YR1983]  78982 non-null   float64\n",
      " 14  1984 [YR1984]  79532 non-null   float64\n",
      " 15  1985 [YR1985]  81017 non-null   float64\n",
      " 16  1986 [YR1986]  81455 non-null   float64\n",
      " 17  1987 [YR1987]  82752 non-null   float64\n",
      " 18  1988 [YR1988]  83242 non-null   float64\n",
      " 19  1989 [YR1989]  86331 non-null   float64\n",
      " 20  1990 [YR1990]  106955 non-null  float64\n",
      " 21  1991 [YR1991]  106991 non-null  float64\n",
      " 22  1992 [YR1992]  112243 non-null  float64\n",
      " 23  1993 [YR1993]  114553 non-null  float64\n",
      " 24  1994 [YR1994]  116823 non-null  float64\n",
      " 25  1995 [YR1995]  124468 non-null  float64\n",
      " 26  1996 [YR1996]  124374 non-null  float64\n",
      " 27  1997 [YR1997]  125686 non-null  float64\n",
      " 28  1998 [YR1998]  125944 non-null  float64\n",
      " 29  1999 [YR1999]  130880 non-null  float64\n",
      " 30  2000 [YR2000]  140547 non-null  float64\n",
      " 31  2001 [YR2001]  136783 non-null  float64\n",
      " 32  2002 [YR2002]  140315 non-null  float64\n",
      " 33  2003 [YR2003]  139159 non-null  float64\n",
      " 34  2004 [YR2004]  142379 non-null  float64\n",
      " 35  2005 [YR2005]  161544 non-null  float64\n",
      " 36  2006 [YR2006]  158888 non-null  float64\n",
      " 37  2007 [YR2007]  161596 non-null  float64\n",
      " 38  YRAVG          195402 non-null  float64\n",
      " 39  YRSTD          195402 non-null  object \n",
      " 40  Country Name   195402 non-null  object \n",
      " 41  Series Code    195402 non-null  object \n",
      " 42  Series Name    195402 non-null  object \n",
      "dtypes: bool(1), float64(37), int64(1), object(4)\n",
      "memory usage: 62.8+ MB\n"
     ]
    }
   ],
   "source": [
    "data.info()"
   ]
  },
  {
   "cell_type": "markdown",
   "metadata": {},
   "source": [
    "### Count of null cells by column/year"
   ]
  },
  {
   "cell_type": "code",
   "execution_count": 7,
   "metadata": {},
   "outputs": [
    {
     "data": {
      "text/plain": [
       "index                 0\n",
       "pred                  0\n",
       "1972 [YR1972]    130457\n",
       "1973 [YR1973]    130959\n",
       "1974 [YR1974]    130436\n",
       "1975 [YR1975]    128429\n",
       "1976 [YR1976]    127685\n",
       "1977 [YR1977]    125667\n",
       "1978 [YR1978]    125639\n",
       "1979 [YR1979]    125496\n",
       "1980 [YR1980]    120152\n",
       "1981 [YR1981]    117368\n",
       "1982 [YR1982]    116386\n",
       "1983 [YR1983]    116420\n",
       "1984 [YR1984]    115870\n",
       "1985 [YR1985]    114385\n",
       "1986 [YR1986]    113947\n",
       "1987 [YR1987]    112650\n",
       "1988 [YR1988]    112160\n",
       "1989 [YR1989]    109071\n",
       "1990 [YR1990]     88447\n",
       "1991 [YR1991]     88411\n",
       "1992 [YR1992]     83159\n",
       "1993 [YR1993]     80849\n",
       "1994 [YR1994]     78579\n",
       "1995 [YR1995]     70934\n",
       "1996 [YR1996]     71028\n",
       "1997 [YR1997]     69716\n",
       "1998 [YR1998]     69458\n",
       "1999 [YR1999]     64522\n",
       "2000 [YR2000]     54855\n",
       "2001 [YR2001]     58619\n",
       "2002 [YR2002]     55087\n",
       "2003 [YR2003]     56243\n",
       "2004 [YR2004]     53023\n",
       "2005 [YR2005]     33858\n",
       "2006 [YR2006]     36514\n",
       "2007 [YR2007]     33806\n",
       "YRAVG                 0\n",
       "YRSTD                 0\n",
       "Country Name          0\n",
       "Series Code           0\n",
       "Series Name           0\n",
       "dtype: int64"
      ]
     },
     "execution_count": 7,
     "metadata": {},
     "output_type": "execute_result"
    }
   ],
   "source": [
    "data.isnull().sum()"
   ]
  },
  {
   "cell_type": "code",
   "execution_count": 8,
   "metadata": {},
   "outputs": [],
   "source": [
    "mdg_series = ['1.2','2.1','3.2','4.1','5.1','6.1','6.7','7.8','8.16']"
   ]
  },
  {
   "cell_type": "markdown",
   "metadata": {},
   "source": [
    "### Descemding order of data series by year"
   ]
  },
  {
   "cell_type": "code",
   "execution_count": 9,
   "metadata": {},
   "outputs": [
    {
     "data": {
      "text/plain": [
       "index               0\n",
       "pred                0\n",
       "1972 [YR1972]    1240\n",
       "1973 [YR1973]    1240\n",
       "1974 [YR1974]    1242\n",
       "1975 [YR1975]    1233\n",
       "1976 [YR1976]    1224\n",
       "1977 [YR1977]    1217\n",
       "1978 [YR1978]    1209\n",
       "1979 [YR1979]    1207\n",
       "1980 [YR1980]    1205\n",
       "1981 [YR1981]    1186\n",
       "1982 [YR1982]    1186\n",
       "1983 [YR1983]    1180\n",
       "1984 [YR1984]    1167\n",
       "1985 [YR1985]    1166\n",
       "1986 [YR1986]    1160\n",
       "1987 [YR1987]    1160\n",
       "1988 [YR1988]    1152\n",
       "1989 [YR1989]    1156\n",
       "1990 [YR1990]     596\n",
       "1991 [YR1991]     768\n",
       "1992 [YR1992]     734\n",
       "1993 [YR1993]     712\n",
       "1994 [YR1994]     659\n",
       "1995 [YR1995]     590\n",
       "1996 [YR1996]     552\n",
       "1997 [YR1997]     570\n",
       "1998 [YR1998]     534\n",
       "1999 [YR1999]     473\n",
       "2000 [YR2000]     420\n",
       "2001 [YR2001]     439\n",
       "2002 [YR2002]     434\n",
       "2003 [YR2003]     419\n",
       "2004 [YR2004]     420\n",
       "2005 [YR2005]     393\n",
       "2006 [YR2006]     382\n",
       "2007 [YR2007]     404\n",
       "YRAVG               0\n",
       "YRSTD               0\n",
       "Country Name        0\n",
       "Series Code         0\n",
       "Series Name         0\n",
       "dtype: int64"
      ]
     },
     "execution_count": 9,
     "metadata": {},
     "output_type": "execute_result"
    }
   ],
   "source": [
    "data[data['Series Code'].isin(mdg_series)].isnull().sum()"
   ]
  },
  {
   "cell_type": "markdown",
   "metadata": {},
   "source": [
    "### Checking top 25 countries in terms of count of data series included in the data file"
   ]
  },
  {
   "cell_type": "code",
   "execution_count": 10,
   "metadata": {},
   "outputs": [
    {
     "data": {
      "text/html": [
       "<div>\n",
       "<style scoped>\n",
       "    .dataframe tbody tr th:only-of-type {\n",
       "        vertical-align: middle;\n",
       "    }\n",
       "\n",
       "    .dataframe tbody tr th {\n",
       "        vertical-align: top;\n",
       "    }\n",
       "\n",
       "    .dataframe thead th {\n",
       "        text-align: right;\n",
       "    }\n",
       "</style>\n",
       "<table border=\"1\" class=\"dataframe\">\n",
       "  <thead>\n",
       "    <tr style=\"text-align: right;\">\n",
       "      <th></th>\n",
       "      <th>Series Code</th>\n",
       "    </tr>\n",
       "    <tr>\n",
       "      <th>Country Name</th>\n",
       "      <th></th>\n",
       "    </tr>\n",
       "  </thead>\n",
       "  <tbody>\n",
       "    <tr>\n",
       "      <th>Bolivia</th>\n",
       "      <td>1255</td>\n",
       "    </tr>\n",
       "    <tr>\n",
       "      <th>Bangladesh</th>\n",
       "      <td>1242</td>\n",
       "    </tr>\n",
       "    <tr>\n",
       "      <th>India</th>\n",
       "      <td>1240</td>\n",
       "    </tr>\n",
       "    <tr>\n",
       "      <th>Sri Lanka</th>\n",
       "      <td>1239</td>\n",
       "    </tr>\n",
       "    <tr>\n",
       "      <th>Kyrgyz Republic</th>\n",
       "      <td>1236</td>\n",
       "    </tr>\n",
       "    <tr>\n",
       "      <th>Philippines</th>\n",
       "      <td>1236</td>\n",
       "    </tr>\n",
       "    <tr>\n",
       "      <th>Ghana</th>\n",
       "      <td>1233</td>\n",
       "    </tr>\n",
       "    <tr>\n",
       "      <th>Morocco</th>\n",
       "      <td>1233</td>\n",
       "    </tr>\n",
       "    <tr>\n",
       "      <th>Kenya</th>\n",
       "      <td>1232</td>\n",
       "    </tr>\n",
       "    <tr>\n",
       "      <th>Mongolia</th>\n",
       "      <td>1230</td>\n",
       "    </tr>\n",
       "    <tr>\n",
       "      <th>Indonesia</th>\n",
       "      <td>1229</td>\n",
       "    </tr>\n",
       "    <tr>\n",
       "      <th>Colombia</th>\n",
       "      <td>1228</td>\n",
       "    </tr>\n",
       "    <tr>\n",
       "      <th>Peru</th>\n",
       "      <td>1227</td>\n",
       "    </tr>\n",
       "    <tr>\n",
       "      <th>South Africa</th>\n",
       "      <td>1227</td>\n",
       "    </tr>\n",
       "    <tr>\n",
       "      <th>Ethiopia</th>\n",
       "      <td>1226</td>\n",
       "    </tr>\n",
       "    <tr>\n",
       "      <th>Moldova</th>\n",
       "      <td>1224</td>\n",
       "    </tr>\n",
       "    <tr>\n",
       "      <th>Pakistan</th>\n",
       "      <td>1224</td>\n",
       "    </tr>\n",
       "    <tr>\n",
       "      <th>Azerbaijan</th>\n",
       "      <td>1223</td>\n",
       "    </tr>\n",
       "    <tr>\n",
       "      <th>Dominican Republic</th>\n",
       "      <td>1217</td>\n",
       "    </tr>\n",
       "    <tr>\n",
       "      <th>El Salvador</th>\n",
       "      <td>1214</td>\n",
       "    </tr>\n",
       "    <tr>\n",
       "      <th>Honduras</th>\n",
       "      <td>1213</td>\n",
       "    </tr>\n",
       "    <tr>\n",
       "      <th>Mexico</th>\n",
       "      <td>1212</td>\n",
       "    </tr>\n",
       "    <tr>\n",
       "      <th>Nicaragua</th>\n",
       "      <td>1212</td>\n",
       "    </tr>\n",
       "    <tr>\n",
       "      <th>Cambodia</th>\n",
       "      <td>1212</td>\n",
       "    </tr>\n",
       "    <tr>\n",
       "      <th>Thailand</th>\n",
       "      <td>1210</td>\n",
       "    </tr>\n",
       "  </tbody>\n",
       "</table>\n",
       "</div>"
      ],
      "text/plain": [
       "                    Series Code\n",
       "Country Name                   \n",
       "Bolivia                    1255\n",
       "Bangladesh                 1242\n",
       "India                      1240\n",
       "Sri Lanka                  1239\n",
       "Kyrgyz Republic            1236\n",
       "Philippines                1236\n",
       "Ghana                      1233\n",
       "Morocco                    1233\n",
       "Kenya                      1232\n",
       "Mongolia                   1230\n",
       "Indonesia                  1229\n",
       "Colombia                   1228\n",
       "Peru                       1227\n",
       "South Africa               1227\n",
       "Ethiopia                   1226\n",
       "Moldova                    1224\n",
       "Pakistan                   1224\n",
       "Azerbaijan                 1223\n",
       "Dominican Republic         1217\n",
       "El Salvador                1214\n",
       "Honduras                   1213\n",
       "Mexico                     1212\n",
       "Nicaragua                  1212\n",
       "Cambodia                   1212\n",
       "Thailand                   1210"
      ]
     },
     "execution_count": 10,
     "metadata": {},
     "output_type": "execute_result"
    }
   ],
   "source": [
    "data.groupby('Country Name').agg({'Series Code': 'size'}).sort_values(by='Series Code', ascending=False).head(25)"
   ]
  },
  {
   "cell_type": "markdown",
   "metadata": {},
   "source": [
    "### Checking how many data series each country has"
   ]
  },
  {
   "cell_type": "code",
   "execution_count": 11,
   "metadata": {},
   "outputs": [
    {
     "data": {
      "image/png": "[encoded data removed]",
      "text/plain": [
       "<Figure size 432x288 with 1 Axes>"
      ]
     },
     "metadata": {
      "needs_background": "light"
     },
     "output_type": "display_data"
    }
   ],
   "source": [
    "data.groupby('Country Name').agg({'Series Code': 'size'}).sort_values(by='Series Code', ascending=False).hist()\n",
    "plt.show()"
   ]
  },
  {
   "cell_type": "markdown",
   "metadata": {},
   "source": [
    "### Distribution of average progress towards MDG index"
   ]
  },
  {
   "cell_type": "code",
   "execution_count": 13,
   "metadata": {},
   "outputs": [
    {
     "data": {
      "image/png": "[encoded data removed]",
      "text/plain": [
       "<Figure size 432x288 with 1 Axes>"
      ]
     },
     "metadata": {
      "needs_background": "light"
     },
     "output_type": "display_data"
    }
   ],
   "source": [
    "data[(data['Series Code'].isin(mdg_series))]['YRAVG'].hist(bins=50)\n",
    "plt.show()"
   ]
  },
  {
   "cell_type": "markdown",
   "metadata": {},
   "source": [
    "### Distribution of average arable land in hectacres"
   ]
  },
  {
   "cell_type": "code",
   "execution_count": 15,
   "metadata": {},
   "outputs": [
    {
     "data": {
      "image/png": "[encoded data removed]",
      "text/plain": [
       "<Figure size 432x288 with 1 Axes>"
      ]
     },
     "metadata": {
      "needs_background": "light"
     },
     "output_type": "display_data"
    }
   ],
   "source": [
    "data[(data['Series Code']=='AG.LND.ARBL.HA')]['YRAVG'].hist(bins=50)\n",
    "plt.show()"
   ]
  },
  {
   "cell_type": "markdown",
   "metadata": {},
   "source": [
    "### Distribution of global crop production index"
   ]
  },
  {
   "cell_type": "code",
   "execution_count": 14,
   "metadata": {},
   "outputs": [
    {
     "data": {
      "image/png": "[encoded data removed]",
      "text/plain": [
       "<Figure size 432x288 with 1 Axes>"
      ]
     },
     "metadata": {
      "needs_background": "light"
     },
     "output_type": "display_data"
    }
   ],
   "source": [
    "data[(data['Series Code']=='AG.PRD.CROP.XD')]['2007 [YR2007]'].hist(bins=50)\n",
    "plt.show()"
   ]
  },
  {
   "cell_type": "markdown",
   "metadata": {},
   "source": [
    "### Hypothesize a \"linear' correlation between consecutive years"
   ]
  },
  {
   "cell_type": "code",
   "execution_count": 63,
   "metadata": {},
   "outputs": [],
   "source": [
    "corr = data.corr()"
   ]
  },
  {
   "cell_type": "code",
   "execution_count": 64,
   "metadata": {},
   "outputs": [
    {
     "data": {
      "image/png": "[encoded data removed]",
      "text/plain": [
       "<Figure size 432x288 with 2 Axes>"
      ]
     },
     "metadata": {
      "needs_background": "light"
     },
     "output_type": "display_data"
    }
   ],
   "source": [
    "ax = sb.heatmap(\n",
    "    corr, \n",
    "    vmin=-1, vmax=1, center=0,\n",
    "    cmap=sb.diverging_palette(20, 220, n=200),\n",
    "    square=True\n",
    ")\n",
    "ax.set_xticklabels(\n",
    "    ax.get_xticklabels(),\n",
    "    rotation=45,\n",
    "    horizontalalignment='right'\n",
    ");"
   ]
  },
  {
   "cell_type": "markdown",
   "metadata": {},
   "source": [
    "Notice from above that there is a very positive correlation between adjacent or neighboring years, but there is also a lot of null or 0 data provided, therefore this is likely false positive of any significant correlation."
   ]
  },
  {
   "cell_type": "code",
   "execution_count": 16,
   "metadata": {},
   "outputs": [
    {
     "name": "stdout",
     "output_type": "stream",
     "text": [
      "['1972 [YR1972]', '1973 [YR1973]', '1974 [YR1974]', '1975 [YR1975]', '1976 [YR1976]', '1977 [YR1977]', '1978 [YR1978]', '1979 [YR1979]', '1980 [YR1980]', '1981 [YR1981]', '1982 [YR1982]', '1983 [YR1983]', '1984 [YR1984]', '1985 [YR1985]', '1986 [YR1986]', '1987 [YR1987]', '1988 [YR1988]', '1989 [YR1989]', '1990 [YR1990]', '1991 [YR1991]', '1992 [YR1992]', '1993 [YR1993]', '1994 [YR1994]', '1995 [YR1995]', '1996 [YR1996]', '1997 [YR1997]', '1998 [YR1998]', '1999 [YR1999]', '2000 [YR2000]', '2001 [YR2001]', '2002 [YR2002]', '2003 [YR2003]', '2004 [YR2004]', '2005 [YR2005]', '2006 [YR2006]', '2007 [YR2007]']\n"
     ]
    }
   ],
   "source": [
    "year_cols = [col for col in data.columns if '[YR' in col]\n",
    "print(year_cols)"
   ]
  },
  {
   "cell_type": "markdown",
   "metadata": {},
   "source": [
    "### Backfill NAs or drop rows with too much missing data"
   ]
  },
  {
   "cell_type": "code",
   "execution_count": 28,
   "metadata": {},
   "outputs": [],
   "source": [
    "def bfill_ffill_func(row):\n",
    "    new_row = row[year_cols].bfill().ffill()\n",
    "    return new_row\n",
    "\n",
    "# this is inefficient way to perform this task, as it runs O(nm), where n is rows and m is columns (quadratic)"
   ]
  },
  {
   "cell_type": "code",
   "execution_count": 29,
   "metadata": {},
   "outputs": [],
   "source": [
    "data[year_cols] = data.apply(bfill_ffill_func, axis=1)\n"
   ]
  },
  {
   "cell_type": "code",
   "execution_count": 45,
   "metadata": {},
   "outputs": [
    {
     "data": {
      "text/html": [
       "<div>\n",
       "<style scoped>\n",
       "    .dataframe tbody tr th:only-of-type {\n",
       "        vertical-align: middle;\n",
       "    }\n",
       "\n",
       "    .dataframe tbody tr th {\n",
       "        vertical-align: top;\n",
       "    }\n",
       "\n",
       "    .dataframe thead th {\n",
       "        text-align: right;\n",
       "    }\n",
       "</style>\n",
       "<table border=\"1\" class=\"dataframe\">\n",
       "  <thead>\n",
       "    <tr style=\"text-align: right;\">\n",
       "      <th></th>\n",
       "      <th>index</th>\n",
       "      <th>pred</th>\n",
       "      <th>1972 [YR1972]</th>\n",
       "      <th>1973 [YR1973]</th>\n",
       "      <th>1974 [YR1974]</th>\n",
       "      <th>1975 [YR1975]</th>\n",
       "      <th>1976 [YR1976]</th>\n",
       "      <th>1977 [YR1977]</th>\n",
       "      <th>1978 [YR1978]</th>\n",
       "      <th>1979 [YR1979]</th>\n",
       "      <th>...</th>\n",
       "      <th>2003 [YR2003]</th>\n",
       "      <th>2004 [YR2004]</th>\n",
       "      <th>2005 [YR2005]</th>\n",
       "      <th>2006 [YR2006]</th>\n",
       "      <th>2007 [YR2007]</th>\n",
       "      <th>YRAVG</th>\n",
       "      <th>YRSTD</th>\n",
       "      <th>Country Name</th>\n",
       "      <th>Series Code</th>\n",
       "      <th>Series Name</th>\n",
       "    </tr>\n",
       "  </thead>\n",
       "  <tbody>\n",
       "    <tr>\n",
       "      <th>0</th>\n",
       "      <td>16</td>\n",
       "      <td>False</td>\n",
       "      <td>0.267007</td>\n",
       "      <td>0.267007</td>\n",
       "      <td>0.267007</td>\n",
       "      <td>0.279609</td>\n",
       "      <td>0.279609</td>\n",
       "      <td>0.279609</td>\n",
       "      <td>0.279609</td>\n",
       "      <td>0.279609</td>\n",
       "      <td>...</td>\n",
       "      <td>0.279609</td>\n",
       "      <td>0.279609</td>\n",
       "      <td>0.279609</td>\n",
       "      <td>0.279609</td>\n",
       "      <td>0.279609</td>\n",
       "      <td>0.273308</td>\n",
       "      <td>0.008910748</td>\n",
       "      <td>Afghanistan</td>\n",
       "      <td>2.1</td>\n",
       "      <td>Achieve universal primary education</td>\n",
       "    </tr>\n",
       "    <tr>\n",
       "      <th>1</th>\n",
       "      <td>1186</td>\n",
       "      <td>False</td>\n",
       "      <td>0.192000</td>\n",
       "      <td>0.192000</td>\n",
       "      <td>0.192000</td>\n",
       "      <td>0.192000</td>\n",
       "      <td>0.192000</td>\n",
       "      <td>0.192000</td>\n",
       "      <td>0.192000</td>\n",
       "      <td>0.192000</td>\n",
       "      <td>...</td>\n",
       "      <td>0.178000</td>\n",
       "      <td>0.185000</td>\n",
       "      <td>0.259000</td>\n",
       "      <td>0.180000</td>\n",
       "      <td>0.176000</td>\n",
       "      <td>0.195000</td>\n",
       "      <td>0.031874755</td>\n",
       "      <td>Afghanistan</td>\n",
       "      <td>3.2</td>\n",
       "      <td>Promote gender equality and empower women</td>\n",
       "    </tr>\n",
       "    <tr>\n",
       "      <th>2</th>\n",
       "      <td>753</td>\n",
       "      <td>True</td>\n",
       "      <td>0.296000</td>\n",
       "      <td>0.290900</td>\n",
       "      <td>0.285200</td>\n",
       "      <td>0.279800</td>\n",
       "      <td>0.274200</td>\n",
       "      <td>0.268300</td>\n",
       "      <td>0.262400</td>\n",
       "      <td>0.256500</td>\n",
       "      <td>...</td>\n",
       "      <td>0.124400</td>\n",
       "      <td>0.121000</td>\n",
       "      <td>0.117700</td>\n",
       "      <td>0.114500</td>\n",
       "      <td>0.111500</td>\n",
       "      <td>0.191769</td>\n",
       "      <td>0.060006118</td>\n",
       "      <td>Afghanistan</td>\n",
       "      <td>4.1</td>\n",
       "      <td>Reduce child mortality</td>\n",
       "    </tr>\n",
       "    <tr>\n",
       "      <th>3</th>\n",
       "      <td>706</td>\n",
       "      <td>False</td>\n",
       "      <td>0.016000</td>\n",
       "      <td>0.016000</td>\n",
       "      <td>0.016000</td>\n",
       "      <td>0.016000</td>\n",
       "      <td>0.016000</td>\n",
       "      <td>0.016000</td>\n",
       "      <td>0.016000</td>\n",
       "      <td>0.016000</td>\n",
       "      <td>...</td>\n",
       "      <td>0.016000</td>\n",
       "      <td>0.016000</td>\n",
       "      <td>0.016000</td>\n",
       "      <td>0.016000</td>\n",
       "      <td>0.016000</td>\n",
       "      <td>0.016000</td>\n",
       "      <td>NOT ENOUGH DATA</td>\n",
       "      <td>Afghanistan</td>\n",
       "      <td>5.1</td>\n",
       "      <td>Improve maternal health</td>\n",
       "    </tr>\n",
       "    <tr>\n",
       "      <th>4</th>\n",
       "      <td>1030</td>\n",
       "      <td>True</td>\n",
       "      <td>0.001000</td>\n",
       "      <td>0.001000</td>\n",
       "      <td>0.001000</td>\n",
       "      <td>0.001000</td>\n",
       "      <td>0.001000</td>\n",
       "      <td>0.001000</td>\n",
       "      <td>0.001000</td>\n",
       "      <td>0.001000</td>\n",
       "      <td>...</td>\n",
       "      <td>0.001000</td>\n",
       "      <td>0.001000</td>\n",
       "      <td>0.001000</td>\n",
       "      <td>0.001000</td>\n",
       "      <td>0.001000</td>\n",
       "      <td>0.001000</td>\n",
       "      <td>4.46254E-19</td>\n",
       "      <td>Afghanistan</td>\n",
       "      <td>6.1</td>\n",
       "      <td>Combat HIV/AIDS</td>\n",
       "    </tr>\n",
       "  </tbody>\n",
       "</table>\n",
       "<p>5 rows × 43 columns</p>\n",
       "</div>"
      ],
      "text/plain": [
       "   index   pred  1972 [YR1972]  1973 [YR1973]  1974 [YR1974]  1975 [YR1975]  \\\n",
       "0     16  False       0.267007       0.267007       0.267007       0.279609   \n",
       "1   1186  False       0.192000       0.192000       0.192000       0.192000   \n",
       "2    753   True       0.296000       0.290900       0.285200       0.279800   \n",
       "3    706  False       0.016000       0.016000       0.016000       0.016000   \n",
       "4   1030   True       0.001000       0.001000       0.001000       0.001000   \n",
       "\n",
       "   1976 [YR1976]  1977 [YR1977]  1978 [YR1978]  1979 [YR1979]  ...  \\\n",
       "0       0.279609       0.279609       0.279609       0.279609  ...   \n",
       "1       0.192000       0.192000       0.192000       0.192000  ...   \n",
       "2       0.274200       0.268300       0.262400       0.256500  ...   \n",
       "3       0.016000       0.016000       0.016000       0.016000  ...   \n",
       "4       0.001000       0.001000       0.001000       0.001000  ...   \n",
       "\n",
       "   2003 [YR2003]  2004 [YR2004]  2005 [YR2005]  2006 [YR2006]  2007 [YR2007]  \\\n",
       "0       0.279609       0.279609       0.279609       0.279609       0.279609   \n",
       "1       0.178000       0.185000       0.259000       0.180000       0.176000   \n",
       "2       0.124400       0.121000       0.117700       0.114500       0.111500   \n",
       "3       0.016000       0.016000       0.016000       0.016000       0.016000   \n",
       "4       0.001000       0.001000       0.001000       0.001000       0.001000   \n",
       "\n",
       "      YRAVG            YRSTD  Country Name  Series Code  \\\n",
       "0  0.273308      0.008910748   Afghanistan          2.1   \n",
       "1  0.195000      0.031874755   Afghanistan          3.2   \n",
       "2  0.191769      0.060006118   Afghanistan          4.1   \n",
       "3  0.016000  NOT ENOUGH DATA   Afghanistan          5.1   \n",
       "4  0.001000      4.46254E-19   Afghanistan          6.1   \n",
       "\n",
       "                                 Series Name  \n",
       "0        Achieve universal primary education  \n",
       "1  Promote gender equality and empower women  \n",
       "2                     Reduce child mortality  \n",
       "3                    Improve maternal health  \n",
       "4                            Combat HIV/AIDS  \n",
       "\n",
       "[5 rows x 43 columns]"
      ]
     },
     "execution_count": 45,
     "metadata": {},
     "output_type": "execute_result"
    }
   ],
   "source": [
    "data.head()"
   ]
  },
  {
   "cell_type": "code",
   "execution_count": 40,
   "metadata": {},
   "outputs": [],
   "source": [
    "def bfill_array(array):\n",
    "    out = array.copy()\n",
    "    for row_idx in range(array.shape[0]):\n",
    "        for col_idx in range(array.shape[1]):\n",
    "            if np.isnan(array[row_idx][col_idx]):\n",
    "                array[row_idx][col_idx] = array[row_idx][col_idx - 1]\n",
    "    return out"
   ]
  },
  {
   "cell_type": "code",
   "execution_count": 43,
   "metadata": {},
   "outputs": [
    {
     "data": {
      "text/plain": [
       "array([[0.267007 , 0.267007 , 0.267007 , 0.2796087, 0.2796087, 0.2796087,\n",
       "        0.2796087, 0.2796087, 0.2796087, 0.2796087, 0.2796087, 0.2796087,\n",
       "        0.2796087, 0.2796087, 0.2796087, 0.2796087, 0.2796087, 0.2796087,\n",
       "        0.2796087, 0.2796087, 0.2796087, 0.2796087, 0.2796087, 0.2796087,\n",
       "        0.2796087, 0.2796087, 0.2796087, 0.2796087, 0.2796087, 0.2796087,\n",
       "        0.2796087, 0.2796087, 0.2796087, 0.2796087, 0.2796087, 0.2796087],\n",
       "       [0.192    , 0.192    , 0.192    , 0.192    , 0.192    , 0.192    ,\n",
       "        0.192    , 0.192    , 0.192    , 0.192    , 0.192    , 0.192    ,\n",
       "        0.192    , 0.192    , 0.192    , 0.192    , 0.192    , 0.192    ,\n",
       "        0.192    , 0.192    , 0.192    , 0.192    , 0.192    , 0.192    ,\n",
       "        0.192    , 0.192    , 0.192    , 0.192    , 0.192    , 0.192    ,\n",
       "        0.192    , 0.178    , 0.185    , 0.259    , 0.18     , 0.176    ],\n",
       "       [0.296    , 0.2909   , 0.2852   , 0.2798   , 0.2742   , 0.2683   ,\n",
       "        0.2624   , 0.2565   , 0.2503   , 0.2439   , 0.2374   , 0.2304   ,\n",
       "        0.2229   , 0.2151   , 0.2071   , 0.1993   , 0.1914   , 0.1836   ,\n",
       "        0.1762   , 0.1693   , 0.1627   , 0.1571   , 0.1521   , 0.1479   ,\n",
       "        0.1446   , 0.1417   , 0.1391   , 0.1366   , 0.1339   , 0.131    ,\n",
       "        0.1277   , 0.1244   , 0.121    , 0.1177   , 0.1145   , 0.1115   ],\n",
       "       [0.016    , 0.016    , 0.016    , 0.016    , 0.016    , 0.016    ,\n",
       "        0.016    , 0.016    , 0.016    , 0.016    , 0.016    , 0.016    ,\n",
       "        0.016    , 0.016    , 0.016    , 0.016    , 0.016    , 0.016    ,\n",
       "        0.016    , 0.016    , 0.016    , 0.016    , 0.016    , 0.016    ,\n",
       "        0.016    , 0.016    , 0.016    , 0.016    , 0.016    , 0.016    ,\n",
       "        0.016    , 0.016    , 0.016    , 0.016    , 0.016    , 0.016    ],\n",
       "       [0.001    , 0.001    , 0.001    , 0.001    , 0.001    , 0.001    ,\n",
       "        0.001    , 0.001    , 0.001    , 0.001    , 0.001    , 0.001    ,\n",
       "        0.001    , 0.001    , 0.001    , 0.001    , 0.001    , 0.001    ,\n",
       "        0.001    , 0.001    , 0.001    , 0.001    , 0.001    , 0.001    ,\n",
       "        0.001    , 0.001    , 0.001    , 0.001    , 0.001    , 0.001    ,\n",
       "        0.001    , 0.001    , 0.001    , 0.001    , 0.001    , 0.001    ]])"
      ]
     },
     "execution_count": 43,
     "metadata": {},
     "output_type": "execute_result"
    }
   ],
   "source": [
    "data_array = data[year_cols].values\n",
    "new_years = bfill_array(data_array)\n",
    "new_years[0:5]\n",
    "\n",
    "# this ran in significantly less time"
   ]
  },
  {
   "cell_type": "code",
   "execution_count": 58,
   "metadata": {},
   "outputs": [],
   "source": [
    "data2 = data.copy()\n",
    "data2[year_cols] = new_years"
   ]
  },
  {
   "cell_type": "code",
   "execution_count": 61,
   "metadata": {},
   "outputs": [
    {
     "data": {
      "text/html": [
       "<div>\n",
       "<style scoped>\n",
       "    .dataframe tbody tr th:only-of-type {\n",
       "        vertical-align: middle;\n",
       "    }\n",
       "\n",
       "    .dataframe tbody tr th {\n",
       "        vertical-align: top;\n",
       "    }\n",
       "\n",
       "    .dataframe thead th {\n",
       "        text-align: right;\n",
       "    }\n",
       "</style>\n",
       "<table border=\"1\" class=\"dataframe\">\n",
       "  <thead>\n",
       "    <tr style=\"text-align: right;\">\n",
       "      <th></th>\n",
       "      <th>index</th>\n",
       "      <th>pred</th>\n",
       "      <th>1972 [YR1972]</th>\n",
       "      <th>1973 [YR1973]</th>\n",
       "      <th>1974 [YR1974]</th>\n",
       "      <th>1975 [YR1975]</th>\n",
       "      <th>1976 [YR1976]</th>\n",
       "      <th>1977 [YR1977]</th>\n",
       "      <th>1978 [YR1978]</th>\n",
       "      <th>1979 [YR1979]</th>\n",
       "      <th>...</th>\n",
       "      <th>2003 [YR2003]</th>\n",
       "      <th>2004 [YR2004]</th>\n",
       "      <th>2005 [YR2005]</th>\n",
       "      <th>2006 [YR2006]</th>\n",
       "      <th>2007 [YR2007]</th>\n",
       "      <th>YRAVG</th>\n",
       "      <th>YRSTD</th>\n",
       "      <th>Country Name</th>\n",
       "      <th>Series Code</th>\n",
       "      <th>Series Name</th>\n",
       "    </tr>\n",
       "  </thead>\n",
       "  <tbody>\n",
       "    <tr>\n",
       "      <th>0</th>\n",
       "      <td>16</td>\n",
       "      <td>False</td>\n",
       "      <td>0.267007</td>\n",
       "      <td>0.267007</td>\n",
       "      <td>0.267007</td>\n",
       "      <td>0.279609</td>\n",
       "      <td>0.279609</td>\n",
       "      <td>0.279609</td>\n",
       "      <td>0.279609</td>\n",
       "      <td>0.279609</td>\n",
       "      <td>...</td>\n",
       "      <td>0.279609</td>\n",
       "      <td>0.279609</td>\n",
       "      <td>0.279609</td>\n",
       "      <td>0.279609</td>\n",
       "      <td>0.279609</td>\n",
       "      <td>0.273308</td>\n",
       "      <td>0.003483</td>\n",
       "      <td>Afghanistan</td>\n",
       "      <td>2.1</td>\n",
       "      <td>Achieve universal primary education</td>\n",
       "    </tr>\n",
       "    <tr>\n",
       "      <th>1</th>\n",
       "      <td>1186</td>\n",
       "      <td>False</td>\n",
       "      <td>0.192000</td>\n",
       "      <td>0.192000</td>\n",
       "      <td>0.192000</td>\n",
       "      <td>0.192000</td>\n",
       "      <td>0.192000</td>\n",
       "      <td>0.192000</td>\n",
       "      <td>0.192000</td>\n",
       "      <td>0.192000</td>\n",
       "      <td>...</td>\n",
       "      <td>0.178000</td>\n",
       "      <td>0.185000</td>\n",
       "      <td>0.259000</td>\n",
       "      <td>0.180000</td>\n",
       "      <td>0.176000</td>\n",
       "      <td>0.195000</td>\n",
       "      <td>0.011932</td>\n",
       "      <td>Afghanistan</td>\n",
       "      <td>3.2</td>\n",
       "      <td>Promote gender equality and empower women</td>\n",
       "    </tr>\n",
       "    <tr>\n",
       "      <th>2</th>\n",
       "      <td>753</td>\n",
       "      <td>True</td>\n",
       "      <td>0.296000</td>\n",
       "      <td>0.290900</td>\n",
       "      <td>0.285200</td>\n",
       "      <td>0.279800</td>\n",
       "      <td>0.274200</td>\n",
       "      <td>0.268300</td>\n",
       "      <td>0.262400</td>\n",
       "      <td>0.256500</td>\n",
       "      <td>...</td>\n",
       "      <td>0.124400</td>\n",
       "      <td>0.121000</td>\n",
       "      <td>0.117700</td>\n",
       "      <td>0.114500</td>\n",
       "      <td>0.111500</td>\n",
       "      <td>0.191769</td>\n",
       "      <td>0.059167</td>\n",
       "      <td>Afghanistan</td>\n",
       "      <td>4.1</td>\n",
       "      <td>Reduce child mortality</td>\n",
       "    </tr>\n",
       "    <tr>\n",
       "      <th>3</th>\n",
       "      <td>706</td>\n",
       "      <td>False</td>\n",
       "      <td>0.016000</td>\n",
       "      <td>0.016000</td>\n",
       "      <td>0.016000</td>\n",
       "      <td>0.016000</td>\n",
       "      <td>0.016000</td>\n",
       "      <td>0.016000</td>\n",
       "      <td>0.016000</td>\n",
       "      <td>0.016000</td>\n",
       "      <td>...</td>\n",
       "      <td>0.016000</td>\n",
       "      <td>0.016000</td>\n",
       "      <td>0.016000</td>\n",
       "      <td>0.016000</td>\n",
       "      <td>0.016000</td>\n",
       "      <td>0.016000</td>\n",
       "      <td>0.000000</td>\n",
       "      <td>Afghanistan</td>\n",
       "      <td>5.1</td>\n",
       "      <td>Improve maternal health</td>\n",
       "    </tr>\n",
       "    <tr>\n",
       "      <th>4</th>\n",
       "      <td>1030</td>\n",
       "      <td>True</td>\n",
       "      <td>0.001000</td>\n",
       "      <td>0.001000</td>\n",
       "      <td>0.001000</td>\n",
       "      <td>0.001000</td>\n",
       "      <td>0.001000</td>\n",
       "      <td>0.001000</td>\n",
       "      <td>0.001000</td>\n",
       "      <td>0.001000</td>\n",
       "      <td>...</td>\n",
       "      <td>0.001000</td>\n",
       "      <td>0.001000</td>\n",
       "      <td>0.001000</td>\n",
       "      <td>0.001000</td>\n",
       "      <td>0.001000</td>\n",
       "      <td>0.001000</td>\n",
       "      <td>0.000000</td>\n",
       "      <td>Afghanistan</td>\n",
       "      <td>6.1</td>\n",
       "      <td>Combat HIV/AIDS</td>\n",
       "    </tr>\n",
       "  </tbody>\n",
       "</table>\n",
       "<p>5 rows × 43 columns</p>\n",
       "</div>"
      ],
      "text/plain": [
       "   index   pred  1972 [YR1972]  1973 [YR1973]  1974 [YR1974]  1975 [YR1975]  \\\n",
       "0     16  False       0.267007       0.267007       0.267007       0.279609   \n",
       "1   1186  False       0.192000       0.192000       0.192000       0.192000   \n",
       "2    753   True       0.296000       0.290900       0.285200       0.279800   \n",
       "3    706  False       0.016000       0.016000       0.016000       0.016000   \n",
       "4   1030   True       0.001000       0.001000       0.001000       0.001000   \n",
       "\n",
       "   1976 [YR1976]  1977 [YR1977]  1978 [YR1978]  1979 [YR1979]  ...  \\\n",
       "0       0.279609       0.279609       0.279609       0.279609  ...   \n",
       "1       0.192000       0.192000       0.192000       0.192000  ...   \n",
       "2       0.274200       0.268300       0.262400       0.256500  ...   \n",
       "3       0.016000       0.016000       0.016000       0.016000  ...   \n",
       "4       0.001000       0.001000       0.001000       0.001000  ...   \n",
       "\n",
       "   2003 [YR2003]  2004 [YR2004]  2005 [YR2005]  2006 [YR2006]  2007 [YR2007]  \\\n",
       "0       0.279609       0.279609       0.279609       0.279609       0.279609   \n",
       "1       0.178000       0.185000       0.259000       0.180000       0.176000   \n",
       "2       0.124400       0.121000       0.117700       0.114500       0.111500   \n",
       "3       0.016000       0.016000       0.016000       0.016000       0.016000   \n",
       "4       0.001000       0.001000       0.001000       0.001000       0.001000   \n",
       "\n",
       "      YRAVG     YRSTD  Country Name  Series Code  \\\n",
       "0  0.273308  0.003483   Afghanistan          2.1   \n",
       "1  0.195000  0.011932   Afghanistan          3.2   \n",
       "2  0.191769  0.059167   Afghanistan          4.1   \n",
       "3  0.016000  0.000000   Afghanistan          5.1   \n",
       "4  0.001000  0.000000   Afghanistan          6.1   \n",
       "\n",
       "                                 Series Name  \n",
       "0        Achieve universal primary education  \n",
       "1  Promote gender equality and empower women  \n",
       "2                     Reduce child mortality  \n",
       "3                    Improve maternal health  \n",
       "4                            Combat HIV/AIDS  \n",
       "\n",
       "[5 rows x 43 columns]"
      ]
     },
     "execution_count": 61,
     "metadata": {},
     "output_type": "execute_result"
    }
   ],
   "source": [
    "data2.head()"
   ]
  },
  {
   "cell_type": "code",
   "execution_count": 55,
   "metadata": {},
   "outputs": [],
   "source": [
    "def get_row_std(row):\n",
    "    if row['YRSTD'] == 'NOT ENOUGH DATA':\n",
    "        return np.std(row[year_cols])\n",
    "    else:\n",
    "        row['YRSTD']\n",
    "        \n",
    "# should be performing in O(n), but only returing 0 for first case, and NaN for second case"
   ]
  },
  {
   "cell_type": "code",
   "execution_count": 60,
   "metadata": {},
   "outputs": [],
   "source": [
    "data2['YRSTD'] = data2.apply(lambda row: np.std(row[year_cols]), axis=1)\n",
    "\n",
    "# lambda function taking a lot longer than rowise function "
   ]
  },
  {
   "cell_type": "code",
   "execution_count": 62,
   "metadata": {},
   "outputs": [],
   "source": [
    "data2.to_csv('experiment_backup.csv')"
   ]
  },
  {
   "cell_type": "code",
   "execution_count": null,
   "metadata": {},
   "outputs": [],
   "source": []
  },
  {
   "cell_type": "markdown",
   "metadata": {},
   "source": [
    "### Test some kind of clustering of countries based on series"
   ]
  },
  {
   "cell_type": "code",
   "execution_count": null,
   "metadata": {},
   "outputs": [],
   "source": []
  },
  {
   "cell_type": "markdown",
   "metadata": {},
   "source": [
    "### Create simple LSTM architecture"
   ]
  },
  {
   "cell_type": "code",
   "execution_count": null,
   "metadata": {},
   "outputs": [],
   "source": []
  },
  {
   "cell_type": "markdown",
   "metadata": {},
   "source": [
    "### Train model on timeseries data"
   ]
  },
  {
   "cell_type": "code",
   "execution_count": null,
   "metadata": {},
   "outputs": [],
   "source": []
  },
  {
   "cell_type": "markdown",
   "metadata": {},
   "source": [
    "### Assess model accuracy"
   ]
  },
  {
   "cell_type": "code",
   "execution_count": null,
   "metadata": {},
   "outputs": [],
   "source": []
  },
  {
   "cell_type": "markdown",
   "metadata": {},
   "source": [
    "### Make predictions for 1 and 5 year windows"
   ]
  },
  {
   "cell_type": "code",
   "execution_count": null,
   "metadata": {},
   "outputs": [],
   "source": []
  }
 ],
 "metadata": {
  "kernelspec": {
   "display_name": "Python 3",
   "language": "python",
   "name": "python3"
  },
  "language_info": {
   "codemirror_mode": {
    "name": "ipython",
    "version": 3
   },
   "file_extension": ".py",
   "mimetype": "text/x-python",
   "name": "python",
   "nbconvert_exporter": "python",
   "pygments_lexer": "ipython3",
   "version": "3.7.6"
  }
 },
 "nbformat": 4,
 "nbformat_minor": 4
}
