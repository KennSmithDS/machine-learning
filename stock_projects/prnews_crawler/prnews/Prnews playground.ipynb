{
 "cells": [
  {
   "cell_type": "code",
   "execution_count": 2,
   "metadata": {},
   "outputs": [],
   "source": [
    "import json\n",
    "import pandas as pd\n",
    "import numpy as np\n",
    "import gzip\n",
    "import io, os\n",
    "import requests, urllib\n",
    "from bs4 import BeautifulSoup\n",
    "import datetime as dt\n",
    "import re"
   ]
  },
  {
   "cell_type": "code",
   "execution_count": 2,
   "metadata": {},
   "outputs": [],
   "source": [
    "input_df = pd.read_csv('recent_sitemap_urls.csv')\n",
    "filtered_df = input_df.head().copy()\n",
    "filtered_df.to_csv('sitemap_urls_test.csv', index=False)"
   ]
  },
  {
   "cell_type": "code",
   "execution_count": 16,
   "metadata": {},
   "outputs": [],
   "source": [
    "arr1 = np.random.randint(100,1000,500000)\n",
    "arr2 = np.random.randint(1,200,5)\n",
    "\n",
    "set1 = set(arr1)\n",
    "set2 = set(arr2)"
   ]
  },
  {
   "cell_type": "code",
   "execution_count": 17,
   "metadata": {},
   "outputs": [
    {
     "data": {
      "text/plain": [
       "[89, 28, 13]"
      ]
     },
     "execution_count": 17,
     "metadata": {},
     "output_type": "execute_result"
    }
   ],
   "source": [
    "set3 = list(set2 - set1)\n",
    "set3"
   ]
  },
  {
   "cell_type": "code",
   "execution_count": 2,
   "metadata": {},
   "outputs": [],
   "source": [
    "title_df = pd.read_json('prnews_url_title_lookup.json')"
   ]
  },
  {
   "cell_type": "code",
   "execution_count": 3,
   "metadata": {},
   "outputs": [
    {
     "name": "stdout",
     "output_type": "stream",
     "text": [
      "<class 'pandas.core.frame.DataFrame'>\n",
      "RangeIndex: 702701 entries, 0 to 702700\n",
      "Data columns (total 3 columns):\n",
      " #   Column  Non-Null Count   Dtype \n",
      "---  ------  --------------   ----- \n",
      " 0   url     702701 non-null  object\n",
      " 1   title   702701 non-null  object\n",
      " 2   crawl   702701 non-null  object\n",
      "dtypes: object(3)\n",
      "memory usage: 16.1+ MB\n"
     ]
    }
   ],
   "source": [
    "title_df.info()"
   ]
  },
  {
   "cell_type": "code",
   "execution_count": 7,
   "metadata": {},
   "outputs": [],
   "source": [
    "duplicated_titles = title_df[title_df.duplicated(subset='url')]"
   ]
  },
  {
   "cell_type": "code",
   "execution_count": 8,
   "metadata": {},
   "outputs": [
    {
     "data": {
      "text/plain": [
       "632309"
      ]
     },
     "execution_count": 8,
     "metadata": {},
     "output_type": "execute_result"
    }
   ],
   "source": [
    "len(duplicated_titles)"
   ]
  },
  {
   "cell_type": "code",
   "execution_count": 10,
   "metadata": {},
   "outputs": [
    {
     "data": {
      "text/html": [
       "<div>\n",
       "<style scoped>\n",
       "    .dataframe tbody tr th:only-of-type {\n",
       "        vertical-align: middle;\n",
       "    }\n",
       "\n",
       "    .dataframe tbody tr th {\n",
       "        vertical-align: top;\n",
       "    }\n",
       "\n",
       "    .dataframe thead th {\n",
       "        text-align: right;\n",
       "    }\n",
       "</style>\n",
       "<table border=\"1\" class=\"dataframe\">\n",
       "  <thead>\n",
       "    <tr style=\"text-align: right;\">\n",
       "      <th></th>\n",
       "      <th>url</th>\n",
       "      <th>title</th>\n",
       "      <th>crawl</th>\n",
       "    </tr>\n",
       "  </thead>\n",
       "  <tbody>\n",
       "    <tr>\n",
       "      <th>20416</th>\n",
       "      <td>/news-releases/enterprise-digital-transformati...</td>\n",
       "      <td>Announces Tech for Good Partnership with Work...</td>\n",
       "      <td>False</td>\n",
       "    </tr>\n",
       "    <tr>\n",
       "      <th>15464</th>\n",
       "      <td>/news-releases/union-pacific-corporation-invit...</td>\n",
       "      <td>By 7-Eleven® Prepaid Mastercard® Can Help Unb...</td>\n",
       "      <td>False</td>\n",
       "    </tr>\n",
       "    <tr>\n",
       "      <th>26332</th>\n",
       "      <td>/news-releases/union-pacific-corporation-invit...</td>\n",
       "      <td>By 7-Eleven® Prepaid Mastercard® Can Help Unb...</td>\n",
       "      <td>False</td>\n",
       "    </tr>\n",
       "    <tr>\n",
       "      <th>15045</th>\n",
       "      <td>/news-releases/heska-corporation-first-quarter...</td>\n",
       "      <td>By 7-Eleven® Prepaid Mastercard® Can Help Unb...</td>\n",
       "      <td>False</td>\n",
       "    </tr>\n",
       "    <tr>\n",
       "      <th>14801</th>\n",
       "      <td>/news-releases/union-pacific-corporation-invit...</td>\n",
       "      <td>By 7-Eleven® Prepaid Mastercard® Can Help Unb...</td>\n",
       "      <td>False</td>\n",
       "    </tr>\n",
       "    <tr>\n",
       "      <th>511525</th>\n",
       "      <td>/news-releases/wes-wheeler-appointed-to-lead-u...</td>\n",
       "      <td>Networking Reception to Connect Women in Tech</td>\n",
       "      <td>False</td>\n",
       "    </tr>\n",
       "    <tr>\n",
       "      <th>537662</th>\n",
       "      <td>/news-releases/wes-wheeler-appointed-to-lead-u...</td>\n",
       "      <td>Networking Reception to Connect Women in Tech</td>\n",
       "      <td>False</td>\n",
       "    </tr>\n",
       "    <tr>\n",
       "      <th>527120</th>\n",
       "      <td>/news-releases/a-gencom-affiliate-acquires-hac...</td>\n",
       "      <td>Networking Reception to Connect Women in Tech</td>\n",
       "      <td>False</td>\n",
       "    </tr>\n",
       "    <tr>\n",
       "      <th>514864</th>\n",
       "      <td>/news-releases/wes-wheeler-appointed-to-lead-u...</td>\n",
       "      <td>Networking Reception to Connect Women in Tech</td>\n",
       "      <td>False</td>\n",
       "    </tr>\n",
       "    <tr>\n",
       "      <th>539553</th>\n",
       "      <td>/news-releases/wes-wheeler-appointed-to-lead-u...</td>\n",
       "      <td>Networking Reception to Connect Women in Tech</td>\n",
       "      <td>False</td>\n",
       "    </tr>\n",
       "    <tr>\n",
       "      <th>504922</th>\n",
       "      <td>/news-releases/a-gencom-affiliate-acquires-hac...</td>\n",
       "      <td>Networking Reception to Connect Women in Tech</td>\n",
       "      <td>False</td>\n",
       "    </tr>\n",
       "    <tr>\n",
       "      <th>534040</th>\n",
       "      <td>/news-releases/a-gencom-affiliate-acquires-hac...</td>\n",
       "      <td>Networking Reception to Connect Women in Tech</td>\n",
       "      <td>False</td>\n",
       "    </tr>\n",
       "    <tr>\n",
       "      <th>504997</th>\n",
       "      <td>/news-releases/wes-wheeler-appointed-to-lead-u...</td>\n",
       "      <td>Networking Reception to Connect Women in Tech</td>\n",
       "      <td>False</td>\n",
       "    </tr>\n",
       "    <tr>\n",
       "      <th>530629</th>\n",
       "      <td>/news-releases/a-gencom-affiliate-acquires-hac...</td>\n",
       "      <td>Networking Reception to Connect Women in Tech</td>\n",
       "      <td>False</td>\n",
       "    </tr>\n",
       "    <tr>\n",
       "      <th>506469</th>\n",
       "      <td>/news-releases/wes-wheeler-appointed-to-lead-u...</td>\n",
       "      <td>Networking Reception to Connect Women in Tech</td>\n",
       "      <td>False</td>\n",
       "    </tr>\n",
       "    <tr>\n",
       "      <th>530405</th>\n",
       "      <td>/news-releases/a-gencom-affiliate-acquires-hac...</td>\n",
       "      <td>Networking Reception to Connect Women in Tech</td>\n",
       "      <td>False</td>\n",
       "    </tr>\n",
       "    <tr>\n",
       "      <th>73248</th>\n",
       "      <td>/news-releases/compact-membrane-systems-announ...</td>\n",
       "      <td>and Fullstack Academy Announce Scholarships t...</td>\n",
       "      <td>False</td>\n",
       "    </tr>\n",
       "    <tr>\n",
       "      <th>100749</th>\n",
       "      <td>/news-releases/compact-membrane-systems-announ...</td>\n",
       "      <td>and Fullstack Academy Announce Scholarships t...</td>\n",
       "      <td>False</td>\n",
       "    </tr>\n",
       "    <tr>\n",
       "      <th>73073</th>\n",
       "      <td>/news-releases/compact-membrane-systems-announ...</td>\n",
       "      <td>and Fullstack Academy Announce Scholarships t...</td>\n",
       "      <td>False</td>\n",
       "    </tr>\n",
       "    <tr>\n",
       "      <th>69792</th>\n",
       "      <td>/news-releases/compact-membrane-systems-announ...</td>\n",
       "      <td>and Fullstack Academy Announce Scholarships t...</td>\n",
       "      <td>False</td>\n",
       "    </tr>\n",
       "    <tr>\n",
       "      <th>104467</th>\n",
       "      <td>/news-releases/compact-membrane-systems-announ...</td>\n",
       "      <td>and Fullstack Academy Announce Scholarships t...</td>\n",
       "      <td>False</td>\n",
       "    </tr>\n",
       "    <tr>\n",
       "      <th>93602</th>\n",
       "      <td>/news-releases/compact-membrane-systems-announ...</td>\n",
       "      <td>and Fullstack Academy Announce Scholarships t...</td>\n",
       "      <td>False</td>\n",
       "    </tr>\n",
       "    <tr>\n",
       "      <th>96177</th>\n",
       "      <td>/news-releases/compact-membrane-systems-announ...</td>\n",
       "      <td>and Fullstack Academy Announce Scholarships t...</td>\n",
       "      <td>False</td>\n",
       "    </tr>\n",
       "    <tr>\n",
       "      <th>75306</th>\n",
       "      <td>/news-releases/compact-membrane-systems-announ...</td>\n",
       "      <td>and Fullstack Academy Announce Scholarships t...</td>\n",
       "      <td>False</td>\n",
       "    </tr>\n",
       "    <tr>\n",
       "      <th>114628</th>\n",
       "      <td>/news-releases/compact-membrane-systems-announ...</td>\n",
       "      <td>and Fullstack Academy Announce Scholarships t...</td>\n",
       "      <td>False</td>\n",
       "    </tr>\n",
       "    <tr>\n",
       "      <th>105064</th>\n",
       "      <td>/news-releases/compact-membrane-systems-announ...</td>\n",
       "      <td>and Fullstack Academy Announce Scholarships t...</td>\n",
       "      <td>False</td>\n",
       "    </tr>\n",
       "    <tr>\n",
       "      <th>85278</th>\n",
       "      <td>/news-releases/compact-membrane-systems-announ...</td>\n",
       "      <td>and Fullstack Academy Announce Scholarships t...</td>\n",
       "      <td>False</td>\n",
       "    </tr>\n",
       "    <tr>\n",
       "      <th>462620</th>\n",
       "      <td>/news-releases/atlas-renewable-energy-announce...</td>\n",
       "      <td>de Changsha</td>\n",
       "      <td>False</td>\n",
       "    </tr>\n",
       "    <tr>\n",
       "      <th>472098</th>\n",
       "      <td>/news-releases/atlas-renewable-energy-announce...</td>\n",
       "      <td>de Changsha</td>\n",
       "      <td>False</td>\n",
       "    </tr>\n",
       "    <tr>\n",
       "      <th>431237</th>\n",
       "      <td>/news-releases/atlas-renewable-energy-announce...</td>\n",
       "      <td>de Changsha</td>\n",
       "      <td>False</td>\n",
       "    </tr>\n",
       "  </tbody>\n",
       "</table>\n",
       "</div>"
      ],
      "text/plain": [
       "                                                      url  \\\n",
       "20416   /news-releases/enterprise-digital-transformati...   \n",
       "15464   /news-releases/union-pacific-corporation-invit...   \n",
       "26332   /news-releases/union-pacific-corporation-invit...   \n",
       "15045   /news-releases/heska-corporation-first-quarter...   \n",
       "14801   /news-releases/union-pacific-corporation-invit...   \n",
       "511525  /news-releases/wes-wheeler-appointed-to-lead-u...   \n",
       "537662  /news-releases/wes-wheeler-appointed-to-lead-u...   \n",
       "527120  /news-releases/a-gencom-affiliate-acquires-hac...   \n",
       "514864  /news-releases/wes-wheeler-appointed-to-lead-u...   \n",
       "539553  /news-releases/wes-wheeler-appointed-to-lead-u...   \n",
       "504922  /news-releases/a-gencom-affiliate-acquires-hac...   \n",
       "534040  /news-releases/a-gencom-affiliate-acquires-hac...   \n",
       "504997  /news-releases/wes-wheeler-appointed-to-lead-u...   \n",
       "530629  /news-releases/a-gencom-affiliate-acquires-hac...   \n",
       "506469  /news-releases/wes-wheeler-appointed-to-lead-u...   \n",
       "530405  /news-releases/a-gencom-affiliate-acquires-hac...   \n",
       "73248   /news-releases/compact-membrane-systems-announ...   \n",
       "100749  /news-releases/compact-membrane-systems-announ...   \n",
       "73073   /news-releases/compact-membrane-systems-announ...   \n",
       "69792   /news-releases/compact-membrane-systems-announ...   \n",
       "104467  /news-releases/compact-membrane-systems-announ...   \n",
       "93602   /news-releases/compact-membrane-systems-announ...   \n",
       "96177   /news-releases/compact-membrane-systems-announ...   \n",
       "75306   /news-releases/compact-membrane-systems-announ...   \n",
       "114628  /news-releases/compact-membrane-systems-announ...   \n",
       "105064  /news-releases/compact-membrane-systems-announ...   \n",
       "85278   /news-releases/compact-membrane-systems-announ...   \n",
       "462620  /news-releases/atlas-renewable-energy-announce...   \n",
       "472098  /news-releases/atlas-renewable-energy-announce...   \n",
       "431237  /news-releases/atlas-renewable-energy-announce...   \n",
       "\n",
       "                                                    title  crawl  \n",
       "20416    Announces Tech for Good Partnership with Work...  False  \n",
       "15464    By 7-Eleven® Prepaid Mastercard® Can Help Unb...  False  \n",
       "26332    By 7-Eleven® Prepaid Mastercard® Can Help Unb...  False  \n",
       "15045    By 7-Eleven® Prepaid Mastercard® Can Help Unb...  False  \n",
       "14801    By 7-Eleven® Prepaid Mastercard® Can Help Unb...  False  \n",
       "511525      Networking Reception to Connect Women in Tech  False  \n",
       "537662      Networking Reception to Connect Women in Tech  False  \n",
       "527120      Networking Reception to Connect Women in Tech  False  \n",
       "514864      Networking Reception to Connect Women in Tech  False  \n",
       "539553      Networking Reception to Connect Women in Tech  False  \n",
       "504922      Networking Reception to Connect Women in Tech  False  \n",
       "534040      Networking Reception to Connect Women in Tech  False  \n",
       "504997      Networking Reception to Connect Women in Tech  False  \n",
       "530629      Networking Reception to Connect Women in Tech  False  \n",
       "506469      Networking Reception to Connect Women in Tech  False  \n",
       "530405      Networking Reception to Connect Women in Tech  False  \n",
       "73248    and Fullstack Academy Announce Scholarships t...  False  \n",
       "100749   and Fullstack Academy Announce Scholarships t...  False  \n",
       "73073    and Fullstack Academy Announce Scholarships t...  False  \n",
       "69792    and Fullstack Academy Announce Scholarships t...  False  \n",
       "104467   and Fullstack Academy Announce Scholarships t...  False  \n",
       "93602    and Fullstack Academy Announce Scholarships t...  False  \n",
       "96177    and Fullstack Academy Announce Scholarships t...  False  \n",
       "75306    and Fullstack Academy Announce Scholarships t...  False  \n",
       "114628   and Fullstack Academy Announce Scholarships t...  False  \n",
       "105064   and Fullstack Academy Announce Scholarships t...  False  \n",
       "85278    and Fullstack Academy Announce Scholarships t...  False  \n",
       "462620                                        de Changsha  False  \n",
       "472098                                        de Changsha  False  \n",
       "431237                                        de Changsha  False  "
      ]
     },
     "execution_count": 10,
     "metadata": {},
     "output_type": "execute_result"
    }
   ],
   "source": [
    "duplicated_titles.sort_values(by='title').head(30)"
   ]
  },
  {
   "cell_type": "code",
   "execution_count": 17,
   "metadata": {},
   "outputs": [],
   "source": [
    "headers = {\n",
    "    'Connection': 'keep-alive',\n",
    "    'Cache-Control': 'max-age=0',\n",
    "    'Upgrade-Insecure-Requests': '1',\n",
    "    'User-Agent': 'Mozilla/5.0 (Windows NT 10.0; Win64; x64) AppleWebKit/537.36 (KHTML, like Gecko) Chrome/67.0.3396.87 Safari/537.36',\n",
    "    'Accept': 'text/html,application/xhtml+xml,application/xml;q=0.9,image/webp,image/apng,*/*;q=0.8',\n",
    "    'Accept-Encoding': 'gzip, deflate',\n",
    "    'Accept-Language': 'en-US,en;q=0.9',\n",
    "}"
   ]
  },
  {
   "cell_type": "code",
   "execution_count": 7,
   "metadata": {},
   "outputs": [
    {
     "name": "stdout",
     "output_type": "stream",
     "text": [
      "Writing file: Sitemap_Index_Jan_2020.xml\n"
     ]
    }
   ],
   "source": [
    "test_link = 'https://www.prnewswire.com/Sitemap_Index_Jan_2020.xml.gz'\n",
    "file_name = test_link.split('/')[-1].replace('.gz','')\n",
    "response = requests.get(test_link)\n",
    "print(f'Writing file: {file_name}')\n",
    "with open(file_name, 'wb') as file:\n",
    "    file.write(gzip.decompress(response.content))\n",
    "\n",
    "# response.text\n",
    "# response = urllib.request.urlopen(test_link)\n",
    "# with open(test_link.split('/')[-1], 'wb') as outfile:\n",
    "#     outfile.write(gzip.decompress(response.read()))"
   ]
  },
  {
   "cell_type": "code",
   "execution_count": null,
   "metadata": {},
   "outputs": [],
   "source": [
    "master_sitemap = 'https://www.prnewswire.com/sitemap-gz.xml'"
   ]
  },
  {
   "cell_type": "code",
   "execution_count": null,
   "metadata": {},
   "outputs": [],
   "source": []
  },
  {
   "cell_type": "code",
   "execution_count": null,
   "metadata": {},
   "outputs": [],
   "source": [
    "soup = BeautifulSoup(contents, 'xml')\n",
    "urls = soup.find_all('loc')"
   ]
  },
  {
   "cell_type": "code",
   "execution_count": 18,
   "metadata": {},
   "outputs": [
    {
     "name": "stdout",
     "output_type": "stream",
     "text": [
      "Saving decompressed gzip xml file: Sitemap_Index_Apr_2011.xml\n",
      "Saving decompressed gzip xml file: Sitemap_Index_Apr_2012.xml\n",
      "Saving decompressed gzip xml file: Sitemap_Index_Apr_2013.xml\n",
      "Saving decompressed gzip xml file: Sitemap_Index_Apr_2014.xml\n",
      "Saving decompressed gzip xml file: Sitemap_Index_Apr_2015.xml\n",
      "Saving decompressed gzip xml file: Sitemap_Index_Apr_2016.xml\n",
      "Saving decompressed gzip xml file: Sitemap_Index_Apr_2017.xml\n",
      "Saving decompressed gzip xml file: Sitemap_Index_Apr_2018.xml\n",
      "Saving decompressed gzip xml file: Sitemap_Index_Aug_2011.xml\n",
      "Saving decompressed gzip xml file: Sitemap_Index_Aug_2012.xml\n",
      "Saving decompressed gzip xml file: Sitemap_Index_Aug_2013.xml\n",
      "Saving decompressed gzip xml file: Sitemap_Index_Aug_2014.xml\n",
      "Saving decompressed gzip xml file: Sitemap_Index_Aug_2015.xml\n",
      "Saving decompressed gzip xml file: Sitemap_Index_Aug_2016.xml\n",
      "Saving decompressed gzip xml file: Sitemap_Index_Aug_2017.xml\n",
      "Saving decompressed gzip xml file: Sitemap_Index_Dec_2010.xml\n",
      "Saving decompressed gzip xml file: Sitemap_Index_Dec_2011.xml\n",
      "Saving decompressed gzip xml file: Sitemap_Index_Dec_2012.xml\n",
      "Saving decompressed gzip xml file: Sitemap_Index_Dec_2013.xml\n",
      "Saving decompressed gzip xml file: Sitemap_Index_Dec_2014.xml\n",
      "Saving decompressed gzip xml file: Sitemap_Index_Dec_2015.xml\n",
      "Saving decompressed gzip xml file: Sitemap_Index_Dec_2016.xml\n",
      "Saving decompressed gzip xml file: Sitemap_Index_Dec_2017.xml\n",
      "Saving decompressed gzip xml file: Sitemap_Index_Feb_2011.xml\n",
      "Saving decompressed gzip xml file: Sitemap_Index_Feb_2012.xml\n",
      "Saving decompressed gzip xml file: Sitemap_Index_Feb_2013.xml\n",
      "Saving decompressed gzip xml file: Sitemap_Index_Feb_2014.xml\n",
      "Saving decompressed gzip xml file: Sitemap_Index_Feb_2015.xml\n",
      "Saving decompressed gzip xml file: Sitemap_Index_Feb_2016.xml\n",
      "Saving decompressed gzip xml file: Sitemap_Index_Feb_2017.xml\n",
      "Saving decompressed gzip xml file: Sitemap_Index_Feb_2018.xml\n",
      "Saving decompressed gzip xml file: Sitemap_Index_Jan_2011.xml\n",
      "Saving decompressed gzip xml file: Sitemap_Index_Jan_2012.xml\n",
      "Saving decompressed gzip xml file: Sitemap_Index_Jan_2013.xml\n",
      "Saving decompressed gzip xml file: Sitemap_Index_Jan_2014.xml\n",
      "Saving decompressed gzip xml file: Sitemap_Index_Jan_2015.xml\n",
      "Saving decompressed gzip xml file: Sitemap_Index_Jan_2016.xml\n",
      "Saving decompressed gzip xml file: Sitemap_Index_Jan_2017.xml\n",
      "Saving decompressed gzip xml file: Sitemap_Index_Jan_2018.xml\n",
      "Saving decompressed gzip xml file: Sitemap_Index_Jul_2011.xml\n",
      "Saving decompressed gzip xml file: Sitemap_Index_Jul_2012.xml\n",
      "Saving decompressed gzip xml file: Sitemap_Index_Jul_2013.xml\n",
      "Saving decompressed gzip xml file: Sitemap_Index_Jul_2014.xml\n",
      "Saving decompressed gzip xml file: Sitemap_Index_Jul_2015.xml\n",
      "Saving decompressed gzip xml file: Sitemap_Index_Jul_2016.xml\n",
      "Saving decompressed gzip xml file: Sitemap_Index_Jul_2017.xml\n",
      "Saving decompressed gzip xml file: Sitemap_Index_Jun_2011.xml\n",
      "Saving decompressed gzip xml file: Sitemap_Index_Jun_2012.xml\n",
      "Saving decompressed gzip xml file: Sitemap_Index_Jun_2013.xml\n",
      "Saving decompressed gzip xml file: Sitemap_Index_Jun_2014.xml\n",
      "Saving decompressed gzip xml file: Sitemap_Index_Jun_2015.xml\n",
      "Saving decompressed gzip xml file: Sitemap_Index_Jun_2016.xml\n",
      "Saving decompressed gzip xml file: Sitemap_Index_Jun_2017.xml\n",
      "Saving decompressed gzip xml file: Sitemap_Index_Mar_2011.xml\n",
      "Saving decompressed gzip xml file: Sitemap_Index_Mar_2012.xml\n",
      "Saving decompressed gzip xml file: Sitemap_Index_Mar_2013.xml\n",
      "Saving decompressed gzip xml file: Sitemap_Index_Mar_2014.xml\n",
      "Saving decompressed gzip xml file: Sitemap_Index_Mar_2015.xml\n",
      "Saving decompressed gzip xml file: Sitemap_Index_Mar_2016.xml\n",
      "Saving decompressed gzip xml file: Sitemap_Index_Mar_2017.xml\n",
      "Saving decompressed gzip xml file: Sitemap_Index_Mar_2018.xml\n",
      "Saving decompressed gzip xml file: Sitemap_Index_May_2011.xml\n",
      "Saving decompressed gzip xml file: Sitemap_Index_May_2012.xml\n",
      "Saving decompressed gzip xml file: Sitemap_Index_May_2013.xml\n",
      "Saving decompressed gzip xml file: Sitemap_Index_May_2014.xml\n",
      "Saving decompressed gzip xml file: Sitemap_Index_May_2015.xml\n",
      "Saving decompressed gzip xml file: Sitemap_Index_May_2016.xml\n",
      "Saving decompressed gzip xml file: Sitemap_Index_May_2017.xml\n",
      "Saving decompressed gzip xml file: Sitemap_Index_Nov_2011.xml\n",
      "Saving decompressed gzip xml file: Sitemap_Index_Nov_2012.xml\n",
      "Saving decompressed gzip xml file: Sitemap_Index_Nov_2013.xml\n",
      "Saving decompressed gzip xml file: Sitemap_Index_Nov_2014.xml\n",
      "Saving decompressed gzip xml file: Sitemap_Index_Nov_2015.xml\n",
      "Saving decompressed gzip xml file: Sitemap_Index_Nov_2016.xml\n",
      "Saving decompressed gzip xml file: Sitemap_Index_Nov_2017.xml\n",
      "Saving decompressed gzip xml file: Sitemap_Index_Oct_2011.xml\n",
      "Saving decompressed gzip xml file: Sitemap_Index_Oct_2012.xml\n",
      "Saving decompressed gzip xml file: Sitemap_Index_Oct_2013.xml\n",
      "Saving decompressed gzip xml file: Sitemap_Index_Oct_2014.xml\n",
      "Saving decompressed gzip xml file: Sitemap_Index_Oct_2015.xml\n",
      "Saving decompressed gzip xml file: Sitemap_Index_Oct_2016.xml\n",
      "Saving decompressed gzip xml file: Sitemap_Index_Oct_2017.xml\n",
      "Saving decompressed gzip xml file: Sitemap_Index_Sep_2011.xml\n",
      "Saving decompressed gzip xml file: Sitemap_Index_Sep_2012.xml\n",
      "Saving decompressed gzip xml file: Sitemap_Index_Sep_2013.xml\n",
      "Saving decompressed gzip xml file: Sitemap_Index_Sep_2014.xml\n",
      "Saving decompressed gzip xml file: Sitemap_Index_Sep_2015.xml\n",
      "Saving decompressed gzip xml file: Sitemap_Index_Sep_2016.xml\n",
      "Saving decompressed gzip xml file: Sitemap_Index_Sep_2017.xml\n",
      "Saving decompressed gzip xml file: Sitemap_Index_Jan_2019.xml\n",
      "Saving decompressed gzip xml file: Sitemap_Index_Feb_2019.xml\n",
      "Saving decompressed gzip xml file: Sitemap_Index_Mar_2019.xml\n",
      "Saving decompressed gzip xml file: Sitemap_Index_Jul_2018.xml\n",
      "Saving decompressed gzip xml file: Sitemap_Index_Jun_2018.xml\n",
      "Saving decompressed gzip xml file: Sitemap_Index_Aug_2018.xml\n",
      "Saving decompressed gzip xml file: Sitemap_Index_May_2018.xml\n",
      "Saving decompressed gzip xml file: Sitemap_Index_Sep_2018.xml\n",
      "Saving decompressed gzip xml file: Sitemap_Index_Oct_2018.xml\n",
      "Saving decompressed gzip xml file: Sitemap_Index_Dec_2018.xml\n",
      "Saving decompressed gzip xml file: Sitemap_Index_Nov_2018.xml\n",
      "Saving decompressed gzip xml file: Sitemap_Index_Apr_2019.xml\n",
      "Saving decompressed gzip xml file: Sitemap_Index_May_2019.xml\n",
      "Saving decompressed gzip xml file: Sitemap_Index_Jun_2019.xml\n",
      "Saving decompressed gzip xml file: Sitemap_Index_Jul_2019.xml\n",
      "Saving decompressed gzip xml file: Sitemap_Index_Aug_2019.xml\n",
      "Saving decompressed gzip xml file: Sitemap_Index_Sep_2019.xml\n",
      "Saving decompressed gzip xml file: Sitemap_Index_Oct_2019.xml\n",
      "Saving decompressed gzip xml file: Sitemap_Index_Nov_2019.xml\n",
      "Saving decompressed gzip xml file: Sitemap_Index_Dec_2019.xml\n",
      "Saving decompressed gzip xml file: Sitemap_Index_Jan_2020.xml\n",
      "Saving decompressed gzip xml file: Sitemap_Index_Feb_2020.xml\n",
      "Saving decompressed gzip xml file: Sitemap_Index_Mar_2020.xml\n"
     ]
    }
   ],
   "source": [
    "df = pd.read_csv('xml_sitemap.csv')\n",
    "for link in df.links.values:\n",
    "    xml_link = link\n",
    "    file_name = link.split('/')[-1].replace('.gz','')\n",
    "    print(f'Saving decompressed gzip xml file: {file_name}')\n",
    "    response = requests.get(xml_link, headers=headers)\n",
    "    with open(file_name, 'wb') as file:\n",
    "        file.write(gzip.decompress(response.content))"
   ]
  },
  {
   "cell_type": "code",
   "execution_count": 22,
   "metadata": {},
   "outputs": [],
   "source": [
    "infile = open('Sitemap_Index_Oct_2019.xml', 'r',encoding='utf-8')\n",
    "contents = infile.read()"
   ]
  },
  {
   "cell_type": "code",
   "execution_count": 24,
   "metadata": {},
   "outputs": [],
   "source": [
    "soup = BeautifulSoup(contents, 'xml')\n",
    "urls = soup.find_all('loc')"
   ]
  },
  {
   "cell_type": "code",
   "execution_count": 28,
   "metadata": {},
   "outputs": [],
   "source": [
    "url_list = []\n",
    "\n",
    "for url in urls:\n",
    "    if url.text.__contains__('.html'):\n",
    "        url_list.append(url.text)\n",
    "#         print(url.text)"
   ]
  },
  {
   "cell_type": "code",
   "execution_count": 29,
   "metadata": {},
   "outputs": [
    {
     "data": {
      "text/plain": [
       "21720"
      ]
     },
     "execution_count": 29,
     "metadata": {},
     "output_type": "execute_result"
    }
   ],
   "source": [
    "len(url_list)"
   ]
  },
  {
   "cell_type": "code",
   "execution_count": 3,
   "metadata": {},
   "outputs": [],
   "source": [
    "cdir = os.listdir()\n",
    "xml_files = [file for file in cdir if '.xml' in file]"
   ]
  },
  {
   "cell_type": "code",
   "execution_count": 4,
   "metadata": {},
   "outputs": [
    {
     "data": {
      "text/plain": [
       "114"
      ]
     },
     "execution_count": 4,
     "metadata": {},
     "output_type": "execute_result"
    }
   ],
   "source": [
    "len(xml_files)"
   ]
  },
  {
   "cell_type": "code",
   "execution_count": 5,
   "metadata": {},
   "outputs": [],
   "source": [
    "def parse_xml_file(file_name):\n",
    "    clean_name = file_name.replace('Sitemap_Index_', '').replace('.xml', '')\n",
    "    url_list = []\n",
    "    infile = open(file_name, 'r',encoding='utf-8')\n",
    "    contents = infile.read()\n",
    "    soup = BeautifulSoup(contents, 'xml')\n",
    "    urls = soup.find_all('loc')\n",
    "    for url in urls:\n",
    "        url_dict = {}\n",
    "        if url.text.__contains__('.html'):\n",
    "            url_dict['file'] = clean_name\n",
    "            url_dict['url'] = url.text\n",
    "        url_list.append(url_dict)\n",
    "    return url_list"
   ]
  },
  {
   "cell_type": "code",
   "execution_count": 46,
   "metadata": {},
   "outputs": [
    {
     "name": "stdout",
     "output_type": "stream",
     "text": [
      "Parsing: Sitemap_Index_Apr_2016.xml\n",
      "Parsing: Sitemap_Index_Apr_2017.xml\n",
      "Parsing: Sitemap_Index_Apr_2018.xml\n",
      "Parsing: Sitemap_Index_Apr_2019.xml\n",
      "Parsing: Sitemap_Index_Aug_2016.xml\n",
      "Parsing: Sitemap_Index_Aug_2017.xml\n",
      "Parsing: Sitemap_Index_Aug_2018.xml\n",
      "Parsing: Sitemap_Index_Aug_2019.xml\n",
      "Parsing: Sitemap_Index_Dec_2016.xml\n",
      "Parsing: Sitemap_Index_Dec_2017.xml\n",
      "Parsing: Sitemap_Index_Dec_2018.xml\n",
      "Parsing: Sitemap_Index_Dec_2019.xml\n",
      "Parsing: Sitemap_Index_Feb_2016.xml\n",
      "Parsing: Sitemap_Index_Feb_2017.xml\n",
      "Parsing: Sitemap_Index_Feb_2018.xml\n",
      "Parsing: Sitemap_Index_Feb_2019.xml\n",
      "Parsing: Sitemap_Index_Jan_2016.xml\n",
      "Parsing: Sitemap_Index_Jan_2017.xml\n",
      "Parsing: Sitemap_Index_Jan_2018.xml\n",
      "Parsing: Sitemap_Index_Jan_2019.xml\n",
      "Parsing: Sitemap_Index_Jul_2016.xml\n",
      "Parsing: Sitemap_Index_Jul_2017.xml\n",
      "Parsing: Sitemap_Index_Jul_2018.xml\n",
      "Parsing: Sitemap_Index_Jul_2019.xml\n",
      "Parsing: Sitemap_Index_Jun_2016.xml\n",
      "Parsing: Sitemap_Index_Jun_2017.xml\n",
      "Parsing: Sitemap_Index_Jun_2018.xml\n",
      "Parsing: Sitemap_Index_Jun_2019.xml\n",
      "Parsing: Sitemap_Index_Mar_2016.xml\n",
      "Parsing: Sitemap_Index_Mar_2017.xml\n",
      "Parsing: Sitemap_Index_Mar_2018.xml\n",
      "Parsing: Sitemap_Index_Mar_2019.xml\n",
      "Parsing: Sitemap_Index_May_2016.xml\n",
      "Parsing: Sitemap_Index_May_2017.xml\n",
      "Parsing: Sitemap_Index_May_2018.xml\n",
      "Parsing: Sitemap_Index_May_2019.xml\n",
      "Parsing: Sitemap_Index_Nov_2016.xml\n",
      "Parsing: Sitemap_Index_Nov_2017.xml\n",
      "Parsing: Sitemap_Index_Nov_2018.xml\n",
      "Parsing: Sitemap_Index_Nov_2019.xml\n",
      "Parsing: Sitemap_Index_Oct_2016.xml\n",
      "Parsing: Sitemap_Index_Oct_2017.xml\n",
      "Parsing: Sitemap_Index_Oct_2018.xml\n",
      "Parsing: Sitemap_Index_Oct_2019.xml\n",
      "Parsing: Sitemap_Index_Sep_2016.xml\n",
      "Parsing: Sitemap_Index_Sep_2017.xml\n",
      "Parsing: Sitemap_Index_Sep_2018.xml\n",
      "Parsing: Sitemap_Index_Sep_2019.xml\n"
     ]
    }
   ],
   "source": [
    "recent_url_dict = []\n",
    "\n",
    "for file in xml_files:\n",
    "    if file.__contains__('2016') or file.__contains__('2017') or file.__contains__('2018') or file.__contains__('2019'):\n",
    "        print(f'Parsing: {file}')\n",
    "        recent_url_dict = recent_url_dict + parse_xml_file(file)"
   ]
  },
  {
   "cell_type": "code",
   "execution_count": 6,
   "metadata": {},
   "outputs": [
    {
     "name": "stdout",
     "output_type": "stream",
     "text": [
      "Parsing: Sitemap_Index_Apr_2011.xml\n",
      "Parsing: Sitemap_Index_Apr_2012.xml\n",
      "Parsing: Sitemap_Index_Apr_2013.xml\n",
      "Parsing: Sitemap_Index_Apr_2014.xml\n",
      "Parsing: Sitemap_Index_Apr_2015.xml\n",
      "Parsing: Sitemap_Index_Aug_2011.xml\n",
      "Parsing: Sitemap_Index_Aug_2012.xml\n",
      "Parsing: Sitemap_Index_Aug_2013.xml\n",
      "Parsing: Sitemap_Index_Aug_2014.xml\n",
      "Parsing: Sitemap_Index_Aug_2015.xml\n",
      "Parsing: Sitemap_Index_Dec_2010.xml\n",
      "Parsing: Sitemap_Index_Dec_2011.xml\n",
      "Parsing: Sitemap_Index_Dec_2012.xml\n",
      "Parsing: Sitemap_Index_Dec_2013.xml\n",
      "Parsing: Sitemap_Index_Dec_2014.xml\n",
      "Parsing: Sitemap_Index_Dec_2015.xml\n",
      "Parsing: Sitemap_Index_Feb_2011.xml\n",
      "Parsing: Sitemap_Index_Feb_2012.xml\n",
      "Parsing: Sitemap_Index_Feb_2013.xml\n",
      "Parsing: Sitemap_Index_Feb_2014.xml\n",
      "Parsing: Sitemap_Index_Feb_2015.xml\n",
      "Parsing: Sitemap_Index_Jan_2011.xml\n",
      "Parsing: Sitemap_Index_Jan_2012.xml\n",
      "Parsing: Sitemap_Index_Jan_2013.xml\n",
      "Parsing: Sitemap_Index_Jan_2014.xml\n",
      "Parsing: Sitemap_Index_Jan_2015.xml\n",
      "Parsing: Sitemap_Index_Jul_2011.xml\n",
      "Parsing: Sitemap_Index_Jul_2012.xml\n",
      "Parsing: Sitemap_Index_Jul_2013.xml\n",
      "Parsing: Sitemap_Index_Jul_2014.xml\n",
      "Parsing: Sitemap_Index_Jul_2015.xml\n",
      "Parsing: Sitemap_Index_Jun_2011.xml\n",
      "Parsing: Sitemap_Index_Jun_2012.xml\n",
      "Parsing: Sitemap_Index_Jun_2013.xml\n",
      "Parsing: Sitemap_Index_Jun_2014.xml\n",
      "Parsing: Sitemap_Index_Jun_2015.xml\n",
      "Parsing: Sitemap_Index_Mar_2011.xml\n",
      "Parsing: Sitemap_Index_Mar_2012.xml\n",
      "Parsing: Sitemap_Index_Mar_2013.xml\n",
      "Parsing: Sitemap_Index_Mar_2014.xml\n",
      "Parsing: Sitemap_Index_Mar_2015.xml\n",
      "Parsing: Sitemap_Index_May_2011.xml\n",
      "Parsing: Sitemap_Index_May_2012.xml\n",
      "Parsing: Sitemap_Index_May_2013.xml\n",
      "Parsing: Sitemap_Index_May_2014.xml\n",
      "Parsing: Sitemap_Index_May_2015.xml\n",
      "Parsing: Sitemap_Index_Nov_2011.xml\n",
      "Parsing: Sitemap_Index_Nov_2012.xml\n",
      "Parsing: Sitemap_Index_Nov_2013.xml\n",
      "Parsing: Sitemap_Index_Nov_2014.xml\n",
      "Parsing: Sitemap_Index_Nov_2015.xml\n",
      "Parsing: Sitemap_Index_Oct_2011.xml\n",
      "Parsing: Sitemap_Index_Oct_2012.xml\n",
      "Parsing: Sitemap_Index_Oct_2013.xml\n",
      "Parsing: Sitemap_Index_Oct_2014.xml\n",
      "Parsing: Sitemap_Index_Oct_2015.xml\n",
      "Parsing: Sitemap_Index_Sep_2011.xml\n",
      "Parsing: Sitemap_Index_Sep_2012.xml\n",
      "Parsing: Sitemap_Index_Sep_2013.xml\n",
      "Parsing: Sitemap_Index_Sep_2014.xml\n",
      "Parsing: Sitemap_Index_Sep_2015.xml\n",
      "Parsing: xml_list.xml\n"
     ]
    }
   ],
   "source": [
    "archive_url_dict = []\n",
    "\n",
    "for file in xml_files:\n",
    "    if not file.__contains__('2016') and not file.__contains__('2017') and not file.__contains__('2018') and not file.__contains__('2019') and not file.__contains__('2020'):\n",
    "        print(f'Parsing: {file}')\n",
    "        archive_url_dict = archive_url_dict + parse_xml_file(file)"
   ]
  },
  {
   "cell_type": "code",
   "execution_count": 23,
   "metadata": {},
   "outputs": [
    {
     "name": "stdout",
     "output_type": "stream",
     "text": [
      "Parsing: Sitemap_Index_Apr_2020.xml\n",
      "Parsing: Sitemap_Index_Dec_2019.xml\n",
      "Parsing: Sitemap_Index_Feb_2020.xml\n",
      "Parsing: Sitemap_Index_Jan_2020.xml\n",
      "Parsing: Sitemap_Index_Mar_2020.xml\n",
      "Parsing: Sitemap_Index_Nov_2019.xml\n"
     ]
    }
   ],
   "source": [
    "recent_url_dict = []\n",
    "\n",
    "for file in xml_files:\n",
    "    if file.__contains__('2020') or file.__contains__('Nov_2019') or file.__contains__('Dec_2019'):\n",
    "        print(f'Parsing: {file}')\n",
    "        recent_url_dict = recent_url_dict + parse_xml_file(file)"
   ]
  },
  {
   "cell_type": "code",
   "execution_count": 24,
   "metadata": {},
   "outputs": [
    {
     "data": {
      "text/plain": [
       "199299"
      ]
     },
     "execution_count": 24,
     "metadata": {},
     "output_type": "execute_result"
    }
   ],
   "source": [
    "len(recent_url_dict)"
   ]
  },
  {
   "cell_type": "code",
   "execution_count": 7,
   "metadata": {},
   "outputs": [
    {
     "name": "stdout",
     "output_type": "stream",
     "text": [
      "<class 'pandas.core.frame.DataFrame'>\n",
      "Int64Index: 999343 entries, 0 to 1754773\n",
      "Data columns (total 2 columns):\n",
      " #   Column  Non-Null Count   Dtype \n",
      "---  ------  --------------   ----- \n",
      " 0   file    999343 non-null  object\n",
      " 1   url     999343 non-null  object\n",
      "dtypes: object(2)\n",
      "memory usage: 22.9+ MB\n"
     ]
    }
   ],
   "source": [
    "archive_url_df = pd.DataFrame(archive_url_dict)\n",
    "archive_url_df.drop_duplicates(inplace=True)\n",
    "archive_url_df.dropna(inplace=True)\n",
    "archive_url_df.info()"
   ]
  },
  {
   "cell_type": "code",
   "execution_count": null,
   "metadata": {},
   "outputs": [],
   "source": [
    "recent_url_df = pd.DataFrame(recent_url_dict)\n",
    "recent_url_df.drop_duplicates(inplace=True)\n",
    "recent_url_df.dropna(inplace=True)\n",
    "recent_url_df.info()"
   ]
  },
  {
   "cell_type": "code",
   "execution_count": 8,
   "metadata": {},
   "outputs": [],
   "source": [
    "def clean_file_date(arr):\n",
    "    cleaned = []\n",
    "    for i in range(len(arr)):\n",
    "        cleaned.append(dt.datetime.strptime(arr[i], \"%b_%Y\").strftime(\"%Y-%m\"))\n",
    "    return cleaned"
   ]
  },
  {
   "cell_type": "code",
   "execution_count": 17,
   "metadata": {},
   "outputs": [
    {
     "data": {
      "text/html": [
       "<div>\n",
       "<style scoped>\n",
       "    .dataframe tbody tr th:only-of-type {\n",
       "        vertical-align: middle;\n",
       "    }\n",
       "\n",
       "    .dataframe tbody tr th {\n",
       "        vertical-align: top;\n",
       "    }\n",
       "\n",
       "    .dataframe thead th {\n",
       "        text-align: right;\n",
       "    }\n",
       "</style>\n",
       "<table border=\"1\" class=\"dataframe\">\n",
       "  <thead>\n",
       "    <tr style=\"text-align: right;\">\n",
       "      <th></th>\n",
       "      <th>file</th>\n",
       "      <th>url</th>\n",
       "    </tr>\n",
       "  </thead>\n",
       "  <tbody>\n",
       "    <tr>\n",
       "      <th>0</th>\n",
       "      <td>Apr_2020</td>\n",
       "      <td>https://www.prnewswire.com/news-releases/costa...</td>\n",
       "    </tr>\n",
       "    <tr>\n",
       "      <th>1</th>\n",
       "      <td>Apr_2020</td>\n",
       "      <td>https://www.prnewswire.com/news-releases/regen...</td>\n",
       "    </tr>\n",
       "    <tr>\n",
       "      <th>3</th>\n",
       "      <td>Apr_2020</td>\n",
       "      <td>https://www.prnewswire.com/news-releases/grupo...</td>\n",
       "    </tr>\n",
       "    <tr>\n",
       "      <th>4</th>\n",
       "      <td>Apr_2020</td>\n",
       "      <td>https://www.prnewswire.com/news-releases/the9-...</td>\n",
       "    </tr>\n",
       "    <tr>\n",
       "      <th>5</th>\n",
       "      <td>Apr_2020</td>\n",
       "      <td>https://www.prnewswire.com/news-releases/leadi...</td>\n",
       "    </tr>\n",
       "  </tbody>\n",
       "</table>\n",
       "</div>"
      ],
      "text/plain": [
       "       file                                                url\n",
       "0  Apr_2020  https://www.prnewswire.com/news-releases/costa...\n",
       "1  Apr_2020  https://www.prnewswire.com/news-releases/regen...\n",
       "3  Apr_2020  https://www.prnewswire.com/news-releases/grupo...\n",
       "4  Apr_2020  https://www.prnewswire.com/news-releases/the9-...\n",
       "5  Apr_2020  https://www.prnewswire.com/news-releases/leadi..."
      ]
     },
     "execution_count": 17,
     "metadata": {},
     "output_type": "execute_result"
    }
   ],
   "source": [
    "recent_url_df.head()"
   ]
  },
  {
   "cell_type": "code",
   "execution_count": 29,
   "metadata": {},
   "outputs": [],
   "source": [
    "sample = recent_url_df.iloc[0:5].copy()\n",
    "sample['dt'] = clean_file_date(sample.file.values)"
   ]
  },
  {
   "cell_type": "code",
   "execution_count": 30,
   "metadata": {},
   "outputs": [
    {
     "data": {
      "text/html": [
       "<div>\n",
       "<style scoped>\n",
       "    .dataframe tbody tr th:only-of-type {\n",
       "        vertical-align: middle;\n",
       "    }\n",
       "\n",
       "    .dataframe tbody tr th {\n",
       "        vertical-align: top;\n",
       "    }\n",
       "\n",
       "    .dataframe thead th {\n",
       "        text-align: right;\n",
       "    }\n",
       "</style>\n",
       "<table border=\"1\" class=\"dataframe\">\n",
       "  <thead>\n",
       "    <tr style=\"text-align: right;\">\n",
       "      <th></th>\n",
       "      <th>file</th>\n",
       "      <th>url</th>\n",
       "      <th>dt</th>\n",
       "    </tr>\n",
       "  </thead>\n",
       "  <tbody>\n",
       "    <tr>\n",
       "      <th>0</th>\n",
       "      <td>Apr_2020</td>\n",
       "      <td>https://www.prnewswire.com/news-releases/costa...</td>\n",
       "      <td>2020-04</td>\n",
       "    </tr>\n",
       "    <tr>\n",
       "      <th>1</th>\n",
       "      <td>Apr_2020</td>\n",
       "      <td>https://www.prnewswire.com/news-releases/regen...</td>\n",
       "      <td>2020-04</td>\n",
       "    </tr>\n",
       "    <tr>\n",
       "      <th>3</th>\n",
       "      <td>Apr_2020</td>\n",
       "      <td>https://www.prnewswire.com/news-releases/grupo...</td>\n",
       "      <td>2020-04</td>\n",
       "    </tr>\n",
       "    <tr>\n",
       "      <th>4</th>\n",
       "      <td>Apr_2020</td>\n",
       "      <td>https://www.prnewswire.com/news-releases/the9-...</td>\n",
       "      <td>2020-04</td>\n",
       "    </tr>\n",
       "    <tr>\n",
       "      <th>5</th>\n",
       "      <td>Apr_2020</td>\n",
       "      <td>https://www.prnewswire.com/news-releases/leadi...</td>\n",
       "      <td>2020-04</td>\n",
       "    </tr>\n",
       "  </tbody>\n",
       "</table>\n",
       "</div>"
      ],
      "text/plain": [
       "       file                                                url       dt\n",
       "0  Apr_2020  https://www.prnewswire.com/news-releases/costa...  2020-04\n",
       "1  Apr_2020  https://www.prnewswire.com/news-releases/regen...  2020-04\n",
       "3  Apr_2020  https://www.prnewswire.com/news-releases/grupo...  2020-04\n",
       "4  Apr_2020  https://www.prnewswire.com/news-releases/the9-...  2020-04\n",
       "5  Apr_2020  https://www.prnewswire.com/news-releases/leadi...  2020-04"
      ]
     },
     "execution_count": 30,
     "metadata": {},
     "output_type": "execute_result"
    }
   ],
   "source": [
    "sample"
   ]
  },
  {
   "cell_type": "code",
   "execution_count": 71,
   "metadata": {},
   "outputs": [
    {
     "name": "stdout",
     "output_type": "stream",
     "text": [
      "2016-04\n",
      "2016-04\n",
      "2016-04\n",
      "2016-04\n",
      "2016-04\n"
     ]
    }
   ],
   "source": [
    "for row in sample.itertuples(index=False):\n",
    "    print(dt.datetime.strptime(row.file, \"%b_%Y\").strftime(\"%Y-%m\"))"
   ]
  },
  {
   "cell_type": "code",
   "execution_count": 9,
   "metadata": {},
   "outputs": [],
   "source": [
    "archive_url_df['dt'] = clean_file_date(archive_url_df['file'].values)\n",
    "archive_url_df.drop(['file'], axis=1, inplace=True)\n",
    "archive_url_df.to_csv('archive_sitemap_urls.csv', index=False)"
   ]
  },
  {
   "cell_type": "code",
   "execution_count": 31,
   "metadata": {},
   "outputs": [],
   "source": [
    "recent_url_df['dt'] = clean_file_date(recent_url_df['file'].values)\n",
    "recent_url_df.drop(['file'], axis=1, inplace=True)\n",
    "recent_url_df.to_csv('recent_sitemap_urls_2020.csv', index=False)"
   ]
  },
  {
   "cell_type": "code",
   "execution_count": 32,
   "metadata": {},
   "outputs": [],
   "source": []
  },
  {
   "cell_type": "code",
   "execution_count": 33,
   "metadata": {},
   "outputs": [],
   "source": []
  },
  {
   "cell_type": "code",
   "execution_count": 81,
   "metadata": {},
   "outputs": [
    {
     "data": {
      "text/plain": [
       "834913"
      ]
     },
     "execution_count": 81,
     "metadata": {},
     "output_type": "execute_result"
    }
   ],
   "source": [
    "recent_url_df2 = recent_url_df[~recent_url_df['dt'].isin(['2019-12', '2019-11'])].copy()\n",
    "# recent_url_df2.drop_duplicates(inplace=True)\n",
    "len(recent_url_df2)"
   ]
  },
  {
   "cell_type": "code",
   "execution_count": null,
   "metadata": {},
   "outputs": [],
   "source": []
  },
  {
   "cell_type": "code",
   "execution_count": null,
   "metadata": {},
   "outputs": [],
   "source": []
  },
  {
   "cell_type": "code",
   "execution_count": null,
   "metadata": {},
   "outputs": [],
   "source": []
  },
  {
   "cell_type": "code",
   "execution_count": null,
   "metadata": {},
   "outputs": [],
   "source": []
  },
  {
   "cell_type": "code",
   "execution_count": 37,
   "metadata": {},
   "outputs": [
    {
     "name": "stdout",
     "output_type": "stream",
     "text": [
      "Parsing: Sitemap_Index_Apr_2011.xml\n",
      "Parsing: Sitemap_Index_Apr_2012.xml\n",
      "Parsing: Sitemap_Index_Apr_2013.xml\n",
      "Parsing: Sitemap_Index_Apr_2014.xml\n",
      "Parsing: Sitemap_Index_Apr_2015.xml\n",
      "Parsing: Sitemap_Index_Apr_2016.xml\n",
      "Parsing: Sitemap_Index_Apr_2017.xml\n",
      "Parsing: Sitemap_Index_Apr_2018.xml\n",
      "Parsing: Sitemap_Index_Apr_2019.xml\n",
      "Parsing: Sitemap_Index_Aug_2011.xml\n",
      "Parsing: Sitemap_Index_Aug_2012.xml\n",
      "Parsing: Sitemap_Index_Aug_2013.xml\n",
      "Parsing: Sitemap_Index_Aug_2014.xml\n",
      "Parsing: Sitemap_Index_Aug_2015.xml\n",
      "Parsing: Sitemap_Index_Aug_2016.xml\n",
      "Parsing: Sitemap_Index_Aug_2017.xml\n",
      "Parsing: Sitemap_Index_Aug_2018.xml\n",
      "Parsing: Sitemap_Index_Aug_2019.xml\n",
      "Parsing: Sitemap_Index_Dec_2010.xml\n",
      "Parsing: Sitemap_Index_Dec_2011.xml\n",
      "Parsing: Sitemap_Index_Dec_2012.xml\n",
      "Parsing: Sitemap_Index_Dec_2013.xml\n",
      "Parsing: Sitemap_Index_Dec_2014.xml\n",
      "Parsing: Sitemap_Index_Dec_2015.xml\n",
      "Parsing: Sitemap_Index_Dec_2016.xml\n",
      "Parsing: Sitemap_Index_Dec_2017.xml\n",
      "Parsing: Sitemap_Index_Dec_2018.xml\n",
      "Parsing: Sitemap_Index_Dec_2019.xml\n",
      "Parsing: Sitemap_Index_Feb_2011.xml\n",
      "Parsing: Sitemap_Index_Feb_2012.xml\n",
      "Parsing: Sitemap_Index_Feb_2013.xml\n",
      "Parsing: Sitemap_Index_Feb_2014.xml\n",
      "Parsing: Sitemap_Index_Feb_2015.xml\n",
      "Parsing: Sitemap_Index_Feb_2016.xml\n",
      "Parsing: Sitemap_Index_Feb_2017.xml\n",
      "Parsing: Sitemap_Index_Feb_2018.xml\n",
      "Parsing: Sitemap_Index_Feb_2019.xml\n",
      "Parsing: Sitemap_Index_Feb_2020.xml\n",
      "Parsing: Sitemap_Index_Jan_2011.xml\n",
      "Parsing: Sitemap_Index_Jan_2012.xml\n",
      "Parsing: Sitemap_Index_Jan_2013.xml\n",
      "Parsing: Sitemap_Index_Jan_2014.xml\n",
      "Parsing: Sitemap_Index_Jan_2015.xml\n",
      "Parsing: Sitemap_Index_Jan_2016.xml\n",
      "Parsing: Sitemap_Index_Jan_2017.xml\n",
      "Parsing: Sitemap_Index_Jan_2018.xml\n",
      "Parsing: Sitemap_Index_Jan_2019.xml\n",
      "Parsing: Sitemap_Index_Jan_2020.xml\n",
      "Parsing: Sitemap_Index_Jul_2011.xml\n",
      "Parsing: Sitemap_Index_Jul_2012.xml\n",
      "Parsing: Sitemap_Index_Jul_2013.xml\n",
      "Parsing: Sitemap_Index_Jul_2014.xml\n",
      "Parsing: Sitemap_Index_Jul_2015.xml\n",
      "Parsing: Sitemap_Index_Jul_2016.xml\n",
      "Parsing: Sitemap_Index_Jul_2017.xml\n",
      "Parsing: Sitemap_Index_Jul_2018.xml\n",
      "Parsing: Sitemap_Index_Jul_2019.xml\n",
      "Parsing: Sitemap_Index_Jun_2011.xml\n",
      "Parsing: Sitemap_Index_Jun_2012.xml\n",
      "Parsing: Sitemap_Index_Jun_2013.xml\n",
      "Parsing: Sitemap_Index_Jun_2014.xml\n",
      "Parsing: Sitemap_Index_Jun_2015.xml\n",
      "Parsing: Sitemap_Index_Jun_2016.xml\n",
      "Parsing: Sitemap_Index_Jun_2017.xml\n",
      "Parsing: Sitemap_Index_Jun_2018.xml\n",
      "Parsing: Sitemap_Index_Jun_2019.xml\n",
      "Parsing: Sitemap_Index_Mar_2011.xml\n",
      "Parsing: Sitemap_Index_Mar_2012.xml\n",
      "Parsing: Sitemap_Index_Mar_2013.xml\n",
      "Parsing: Sitemap_Index_Mar_2014.xml\n",
      "Parsing: Sitemap_Index_Mar_2015.xml\n",
      "Parsing: Sitemap_Index_Mar_2016.xml\n",
      "Parsing: Sitemap_Index_Mar_2017.xml\n",
      "Parsing: Sitemap_Index_Mar_2018.xml\n",
      "Parsing: Sitemap_Index_Mar_2019.xml\n",
      "Parsing: Sitemap_Index_Mar_2020.xml\n",
      "Parsing: Sitemap_Index_May_2011.xml\n",
      "Parsing: Sitemap_Index_May_2012.xml\n",
      "Parsing: Sitemap_Index_May_2013.xml\n",
      "Parsing: Sitemap_Index_May_2014.xml\n",
      "Parsing: Sitemap_Index_May_2015.xml\n",
      "Parsing: Sitemap_Index_May_2016.xml\n",
      "Parsing: Sitemap_Index_May_2017.xml\n",
      "Parsing: Sitemap_Index_May_2018.xml\n",
      "Parsing: Sitemap_Index_May_2019.xml\n",
      "Parsing: Sitemap_Index_Nov_2011.xml\n",
      "Parsing: Sitemap_Index_Nov_2012.xml\n",
      "Parsing: Sitemap_Index_Nov_2013.xml\n",
      "Parsing: Sitemap_Index_Nov_2014.xml\n",
      "Parsing: Sitemap_Index_Nov_2015.xml\n",
      "Parsing: Sitemap_Index_Nov_2016.xml\n",
      "Parsing: Sitemap_Index_Nov_2017.xml\n",
      "Parsing: Sitemap_Index_Nov_2018.xml\n",
      "Parsing: Sitemap_Index_Nov_2019.xml\n",
      "Parsing: Sitemap_Index_Oct_2011.xml\n",
      "Parsing: Sitemap_Index_Oct_2012.xml\n",
      "Parsing: Sitemap_Index_Oct_2013.xml\n",
      "Parsing: Sitemap_Index_Oct_2014.xml\n",
      "Parsing: Sitemap_Index_Oct_2015.xml\n",
      "Parsing: Sitemap_Index_Oct_2016.xml\n",
      "Parsing: Sitemap_Index_Oct_2017.xml\n",
      "Parsing: Sitemap_Index_Oct_2018.xml\n",
      "Parsing: Sitemap_Index_Oct_2019.xml\n",
      "Parsing: Sitemap_Index_Sep_2011.xml\n",
      "Parsing: Sitemap_Index_Sep_2012.xml\n",
      "Parsing: Sitemap_Index_Sep_2013.xml\n",
      "Parsing: Sitemap_Index_Sep_2014.xml\n",
      "Parsing: Sitemap_Index_Sep_2015.xml\n",
      "Parsing: Sitemap_Index_Sep_2016.xml\n",
      "Parsing: Sitemap_Index_Sep_2017.xml\n",
      "Parsing: Sitemap_Index_Sep_2018.xml\n",
      "Parsing: Sitemap_Index_Sep_2019.xml\n",
      "Parsing: xml_list.xml\n"
     ]
    }
   ],
   "source": [
    "master_url_list = []\n",
    "\n",
    "for file in xml_files:\n",
    "    print(f'Parsing: {file}')\n",
    "    master_url_list = master_url_list + parse_xml_file(file)"
   ]
  },
  {
   "cell_type": "code",
   "execution_count": 38,
   "metadata": {},
   "outputs": [
    {
     "data": {
      "text/plain": [
       "2325393"
      ]
     },
     "execution_count": 38,
     "metadata": {},
     "output_type": "execute_result"
    }
   ],
   "source": [
    "len(master_url_list)"
   ]
  },
  {
   "cell_type": "code",
   "execution_count": 39,
   "metadata": {},
   "outputs": [],
   "source": [
    "master_url_list = list(set(master_url_list))"
   ]
  },
  {
   "cell_type": "code",
   "execution_count": 40,
   "metadata": {},
   "outputs": [
    {
     "data": {
      "text/plain": [
       "1921414"
      ]
     },
     "execution_count": 40,
     "metadata": {},
     "output_type": "execute_result"
    }
   ],
   "source": [
    "len(master_url_list)"
   ]
  },
  {
   "cell_type": "code",
   "execution_count": 41,
   "metadata": {},
   "outputs": [
    {
     "data": {
      "text/plain": [
       "'https://www.prnewswire.com/news-releases/all-label-projects-receive-the-special-treatment-at-hi-tech-printing--labeling-inc-184139151.html'"
      ]
     },
     "execution_count": 41,
     "metadata": {},
     "output_type": "execute_result"
    }
   ],
   "source": [
    "master_url_list[0]"
   ]
  },
  {
   "cell_type": "code",
   "execution_count": 43,
   "metadata": {},
   "outputs": [],
   "source": [
    "master_url_df = pd.DataFrame({\"urls\": master_url_list})\n",
    "master_url_df.to_csv('sitemap_urls.csv', index=False, header=False)"
   ]
  },
  {
   "cell_type": "code",
   "execution_count": null,
   "metadata": {},
   "outputs": [],
   "source": []
  }
 ],
 "metadata": {
  "kernelspec": {
   "display_name": "Python 3",
   "language": "python",
   "name": "python3"
  },
  "language_info": {
   "codemirror_mode": {
    "name": "ipython",
    "version": 3
   },
   "file_extension": ".py",
   "mimetype": "text/x-python",
   "name": "python",
   "nbconvert_exporter": "python",
   "pygments_lexer": "ipython3",
   "version": "3.7.7"
  }
 },
 "nbformat": 4,
 "nbformat_minor": 4
}
