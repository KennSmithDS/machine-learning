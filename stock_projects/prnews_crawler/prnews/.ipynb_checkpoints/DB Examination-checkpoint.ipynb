{
 "cells": [
  {
   "cell_type": "code",
   "execution_count": 1,
   "metadata": {},
   "outputs": [],
   "source": [
    "import pandas as pd\n",
    "import sqlite3\n",
    "import datetime as dt\n",
    "import matplotlib.pyplot as plt"
   ]
  },
  {
   "cell_type": "code",
   "execution_count": 2,
   "metadata": {},
   "outputs": [],
   "source": [
    "def db_connection():\n",
    "    conn = sqlite3.connect('prnews_articles.db')\n",
    "    curr = conn.cursor()\n",
    "    return conn, curr"
   ]
  },
  {
   "cell_type": "code",
   "execution_count": 3,
   "metadata": {},
   "outputs": [],
   "source": [
    "def check_crawled_urls():\n",
    "    conn, curr = db_connection()\n",
    "    url_query = \"\"\"SELECT DISTINCT url FROM articles\"\"\"\n",
    "    url_df = pd.read_sql(url_query, conn)\n",
    "    url_df.info()\n",
    "    url_list = url_df.url.unique().tolist()\n",
    "    url_list[0:5]\n",
    "#     conn.close()\n",
    "    return url_list"
   ]
  },
  {
   "cell_type": "code",
   "execution_count": 4,
   "metadata": {},
   "outputs": [],
   "source": [
    "def check_crawl_status():\n",
    "    conn, curr = db_connection()\n",
    "    count_query = \"\"\"SELECT substr(date, 1, 12) published, count(*) row_count FROM articles group by 1\"\"\"\n",
    "    db_df = pd.read_sql_query(count_query,conn)\n",
    "#     conn.close()\n",
    "    print(f'You have crawled {db_df.row_count.sum()} articles')\n",
    "#     print(sorted(db_df.published.unique().tolist()))\n",
    "    db_df['published'] = pd.to_datetime(db_df['published'])\n",
    "    db_df['month'] = db_df['published'].dt.to_period('M')\n",
    "    db_df.groupby(by=['month']).row_count.sum().plot(kind='bar', figsize=(15,10))\n",
    "    plt.title('PRNewsWire Articles Crawled by Year-Month\\n')\n",
    "    plt.xlabel('\\nYYYY-MM')\n",
    "    plt.ylabel('Count of Articles\\n')\n",
    "    plt.show()"
   ]
  },
  {
   "cell_type": "code",
   "execution_count": 10,
   "metadata": {},
   "outputs": [],
   "source": [
    "def get_article_sample():\n",
    "    conn, curr = db_connection()\n",
    "    sample_query = \"\"\"SELECT * FROM articles ORDER BY random() limit 17500\"\"\"\n",
    "    sample_df = pd.read_sql_query(sample_query, conn)\n",
    "    print(f'You have fetched {len(sample_df)} sample rows')\n",
    "    sample_df['date'] = pd.to_datetime(sample_df['date'])\n",
    "    sample_df['month'] = sample_df['date'].dt.to_period('M')\n",
    "    sample_df.groupby(by=['month']).url.size().plot(kind='bar', figsize=(15,10))\n",
    "    plt.title('PRNewsWire Sample Articles Crawled by Year-Month\\n')\n",
    "    plt.xlabel('\\nYYYY-MM')\n",
    "    plt.ylabel('Count of Articles\\n')\n",
    "    plt.show()\n",
    "    return sample_df"
   ]
  },
  {
   "cell_type": "code",
   "execution_count": 5,
   "metadata": {},
   "outputs": [],
   "source": [
    "def db_url_list():\n",
    "    conn, curr = db_connection()\n",
    "    url_query = \"\"\"SELECT DISTINCT url FROM articles\"\"\"\n",
    "    url_df = pd.read_sql(url_query, conn)\n",
    "    urls = url_df['url'].unique().tolist()\n",
    "    conn.close()\n",
    "    return urls"
   ]
  },
  {
   "cell_type": "code",
   "execution_count": 9,
   "metadata": {},
   "outputs": [
    {
     "name": "stdout",
     "output_type": "stream",
     "text": [
      "You have fetches 17500 sample rows\n"
     ]
    },
    {
     "name": "stderr",
     "output_type": "stream",
     "text": [
      "c:\\users\\kenns\\miniconda3\\envs\\stock_env\\lib\\site-packages\\dateutil\\parser\\_parser.py:1218: UnknownTimezoneWarning: tzname ET identified but not understood.  Pass `tzinfos` argument in order to correctly return a timezone-aware datetime.  In a future version, this will raise an exception.\n",
      "  category=UnknownTimezoneWarning)\n"
     ]
    },
    {
     "data": {
      "image/png": "[encoded data removed]",
      "text/plain": [
       "<Figure size 1080x720 with 1 Axes>"
      ]
     },
     "metadata": {
      "needs_background": "light"
     },
     "output_type": "display_data"
    }
   ],
   "source": [
    "samples = get_article_sample()"
   ]
  },
  {
   "cell_type": "code",
   "execution_count": 12,
   "metadata": {},
   "outputs": [
    {
     "data": {
      "text/html": [
       "<div>\n",
       "<style scoped>\n",
       "    .dataframe tbody tr th:only-of-type {\n",
       "        vertical-align: middle;\n",
       "    }\n",
       "\n",
       "    .dataframe tbody tr th {\n",
       "        vertical-align: top;\n",
       "    }\n",
       "\n",
       "    .dataframe thead th {\n",
       "        text-align: right;\n",
       "    }\n",
       "</style>\n",
       "<table border=\"1\" class=\"dataframe\">\n",
       "  <thead>\n",
       "    <tr style=\"text-align: right;\">\n",
       "      <th></th>\n",
       "      <th>url</th>\n",
       "      <th>title</th>\n",
       "      <th>body</th>\n",
       "      <th>date</th>\n",
       "      <th>tickers</th>\n",
       "      <th>month</th>\n",
       "    </tr>\n",
       "  </thead>\n",
       "  <tbody>\n",
       "    <tr>\n",
       "      <th>0</th>\n",
       "      <td>https://www.prnewswire.com/news-releases/cleav...</td>\n",
       "      <td>Cleave Biosciences Raises $37 Million Series B...</td>\n",
       "      <td>BURLINGAME, Calif., Aug. 8, 2016 /PRNewswire/ ...</td>\n",
       "      <td>2016-08-08 07:30:00</td>\n",
       "      <td></td>\n",
       "      <td>2016-08</td>\n",
       "    </tr>\n",
       "    <tr>\n",
       "      <th>1</th>\n",
       "      <td>https://www.prnewswire.com/news-releases/wella...</td>\n",
       "      <td>WellAware introduces Integrated Radio and Cont...</td>\n",
       "      <td>SAN ANTONIO, Dec. 6, 2016 /PRNewswire/ -- Well...</td>\n",
       "      <td>2016-12-06 10:00:00</td>\n",
       "      <td>HAL</td>\n",
       "      <td>2016-12</td>\n",
       "    </tr>\n",
       "    <tr>\n",
       "      <th>2</th>\n",
       "      <td>https://www.prnewswire.com/news-releases/polit...</td>\n",
       "      <td>Politicos James Carville And Mary Matalin Deba...</td>\n",
       "      <td>CHICAGO, July 14, 2016 /PRNewswire-USNewswire/...</td>\n",
       "      <td>2016-07-14 06:52:00</td>\n",
       "      <td></td>\n",
       "      <td>2016-07</td>\n",
       "    </tr>\n",
       "    <tr>\n",
       "      <th>3</th>\n",
       "      <td>https://www.prnewswire.com/news-releases/bisse...</td>\n",
       "      <td>BISSELL® Introduces Pet-Perfect Cleaning Tool ...</td>\n",
       "      <td>GRAND RAPIDS, Mich., May 1, 2018 /PRNewswire/ ...</td>\n",
       "      <td>2018-05-01 09:00:00</td>\n",
       "      <td></td>\n",
       "      <td>2018-05</td>\n",
       "    </tr>\n",
       "    <tr>\n",
       "      <th>4</th>\n",
       "      <td>https://www.prnewswire.com/news-releases/netea...</td>\n",
       "      <td>NetEase Becomes the Overwatch League(TM)'s Fir...</td>\n",
       "      <td>SHANGHAI, July 17, 2017 /PRNewswire/ -- NetEas...</td>\n",
       "      <td>2017-07-17 09:00:00</td>\n",
       "      <td>NTES, ATVI</td>\n",
       "      <td>2017-07</td>\n",
       "    </tr>\n",
       "  </tbody>\n",
       "</table>\n",
       "</div>"
      ],
      "text/plain": [
       "                                                 url  \\\n",
       "0  https://www.prnewswire.com/news-releases/cleav...   \n",
       "1  https://www.prnewswire.com/news-releases/wella...   \n",
       "2  https://www.prnewswire.com/news-releases/polit...   \n",
       "3  https://www.prnewswire.com/news-releases/bisse...   \n",
       "4  https://www.prnewswire.com/news-releases/netea...   \n",
       "\n",
       "                                               title  \\\n",
       "0  Cleave Biosciences Raises $37 Million Series B...   \n",
       "1  WellAware introduces Integrated Radio and Cont...   \n",
       "2  Politicos James Carville And Mary Matalin Deba...   \n",
       "3  BISSELL® Introduces Pet-Perfect Cleaning Tool ...   \n",
       "4  NetEase Becomes the Overwatch League(TM)'s Fir...   \n",
       "\n",
       "                                                body                date  \\\n",
       "0  BURLINGAME, Calif., Aug. 8, 2016 /PRNewswire/ ... 2016-08-08 07:30:00   \n",
       "1  SAN ANTONIO, Dec. 6, 2016 /PRNewswire/ -- Well... 2016-12-06 10:00:00   \n",
       "2  CHICAGO, July 14, 2016 /PRNewswire-USNewswire/... 2016-07-14 06:52:00   \n",
       "3  GRAND RAPIDS, Mich., May 1, 2018 /PRNewswire/ ... 2018-05-01 09:00:00   \n",
       "4  SHANGHAI, July 17, 2017 /PRNewswire/ -- NetEas... 2017-07-17 09:00:00   \n",
       "\n",
       "      tickers    month  \n",
       "0              2016-08  \n",
       "1         HAL  2016-12  \n",
       "2              2016-07  \n",
       "3              2018-05  \n",
       "4  NTES, ATVI  2017-07  "
      ]
     },
     "execution_count": 12,
     "metadata": {},
     "output_type": "execute_result"
    }
   ],
   "source": [
    "samples.head()"
   ]
  },
  {
   "cell_type": "code",
   "execution_count": 15,
   "metadata": {},
   "outputs": [
    {
     "data": {
      "text/plain": [
       "'SAN ANTONIO, Dec. 6, 2016 /PRNewswire/ -- WellAware, the oil and gas industry\\'s only full-stack platform for oilfield monitoring and optimization, announced today the launch of the WellAware Integrated Radio and Controller™ for oil and gas producers as well as a global distribution collaboration with Landmark, a Halliburton (NYSE: HAL) business line and a leading provider of E&P software.\"In today\\'s new norm of oil prices, oil and gas operators are more focused than ever before on streamlining operational costs and reducing downtime,\" said Matt Harrison, president and CEO for WellAware. \"Halliburton\\'s scale and oilfield service expertise, when combined with WellAware\\'s data collection platform, will help operators transform their business processes with real-time data.\"The collection of real-time data from remote production sites can help oil and gas operators significantly reduce production costs, increase operating efficiencies and minimize asset downtime, yet is often too complex and cost prohibitive for remote fields due to network, infrastructure or budget constraints. Traditional cellular modems and 900 MHz networks are prone to outages, resulting in insufficient data availability that often leaves operators with incomplete or stranded data and limited ability to optimize operational procedures.Designed specifically for the oilfield, the Integrated Radio and Controller has a Class 1, Division 2 rating to meet hazardous location safety regulations and includes a \"Store & Forward\" feature to prevent data loss in the event of network disconnection. This Industrial Internet of Things platform is also available as Data Collection as a Service. Through this combined hardware and network offering, WellAware has further driven down the cost of automation by offering an affordable, subscription-based model that eliminates the need for capital expenditures.Landmark has formed a relationship with WellAware to offer Data Collection as a Service within its DecisionSpace® Production 365 platform. First unveiled at LIFE2016, the Internet of Things solution \"powered by WellAware\" offers Landmark customers a complete offering to collect production data from the field and integrate information into the DecisionSpace platform.Nagaraj Srinivasan, senior vice president of Landmark and Halliburton Digital Solutions, said: \"Our collaboration with WellAware extends Landmark\\'s expertise and digital leadership into the field all the way to the wells. With simplified data accessibility and accuracy, operators can now make real-time, data driven decisions either autonomously at the edge, or in their offices with no capital outlay and no startup costs.\"For more information about Landmark\\'s DecisionSpace® solutions, go to www.landmark.solutions. For more information about WellAware, go to www.wellaware.us. About WellAwareWellAware, a data analytics company for the oilfield, enables upstream, midstream, and chemical service companies to reduce operating expenses, minimize downtime and ensure safety and regulatory compliance. Our full-stack solution provides reliable data collection, exception-based monitoring and actionable analytics. Based in San Antonio, the company has secured $61 million in investment funding and built a world-class team of management and advisors from the oil industry. To learn more about WellAware, please visit www.wellaware.us.CONTACT:Danielle UrbanPierpont Communications512-448-4950[email\\xa0protected] SOURCE WellAware http://www.wellaware.usYou just read:News provided byDec 06, 2016, 10:00 ETShare this article'"
      ]
     },
     "execution_count": 15,
     "metadata": {},
     "output_type": "execute_result"
    }
   ],
   "source": [
    "samples.loc[1, 'body']\n",
    "# Strip out location\n",
    "# Remove date and PRNewswire\n",
    "# Remove phone numbers, email addresses and websites\n",
    "# Remove '\\' and other special characters (except '.' for line break parsing)\n",
    "# Leave other digits, e.g. \"class 1 division 2\", \"61 million investment funding\"\n",
    "# Sentences mostly captured by periods\n",
    "# Make lower-case\n",
    "# Stem/lemmatize\n",
    "# Ngrams by sentences"
   ]
  },
  {
   "cell_type": "code",
   "execution_count": 16,
   "metadata": {},
   "outputs": [],
   "source": [
    "samples.to_json('article_sample.json', orient='records')"
   ]
  },
  {
   "cell_type": "code",
   "execution_count": null,
   "metadata": {},
   "outputs": [],
   "source": [
    "from sklearn.feature_extraction.text import CountVectorizer\n",
    "from sklearn.feature_extraction.text import TfidfTransformer\n",
    "from sklearn.linear_model import LogisticRegression"
   ]
  },
  {
   "cell_type": "code",
   "execution_count": null,
   "metadata": {},
   "outputs": [],
   "source": []
  },
  {
   "cell_type": "code",
   "execution_count": null,
   "metadata": {},
   "outputs": [],
   "source": []
  },
  {
   "cell_type": "code",
   "execution_count": null,
   "metadata": {},
   "outputs": [],
   "source": []
  },
  {
   "cell_type": "code",
   "execution_count": 6,
   "metadata": {},
   "outputs": [
    {
     "name": "stdout",
     "output_type": "stream",
     "text": [
      "You have crawled 800853 articles\n"
     ]
    },
    {
     "data": {
      "image/png": "[encoded data removed]",
      "text/plain": [
       "<Figure size 432x288 with 1 Axes>"
      ]
     },
     "metadata": {
      "needs_background": "light"
     },
     "output_type": "display_data"
    }
   ],
   "source": [
    "check_crawl_status()"
   ]
  },
  {
   "cell_type": "code",
   "execution_count": 34,
   "metadata": {},
   "outputs": [
    {
     "name": "stdout",
     "output_type": "stream",
     "text": [
      "You have crawled 921119 articles\n"
     ]
    },
    {
     "data": {
      "image/png": "[encoded data removed]",
      "text/plain": [
       "<Figure size 1080x720 with 1 Axes>"
      ]
     },
     "metadata": {
      "needs_background": "light"
     },
     "output_type": "display_data"
    }
   ],
   "source": [
    "check_crawl_status()"
   ]
  },
  {
   "cell_type": "code",
   "execution_count": 23,
   "metadata": {},
   "outputs": [],
   "source": [
    "def check_xml_filesize(file_path):\n",
    "    xml_df = pd.read_csv(file_path)\n",
    "    print(xml_df.info())\n",
    "    xml_df['dt_dt'] = xml_df['dt'].apply(lambda x: dt.datetime.strptime(x, \"%Y-%m\"))\n",
    "    xml_df['month'] = xml_df['dt_dt'].dt.to_period('M')\n",
    "    xml_df.groupby(by=['month'])['url'].count().plot(kind='bar', figsize=(15,10))\n",
    "    plt.show()\n",
    "    return xml_df"
   ]
  },
  {
   "cell_type": "code",
   "execution_count": 15,
   "metadata": {},
   "outputs": [],
   "source": [
    "files_2020 = 'C://Users//kenns//Documents//StockProject//prnews//prnews//recent_sitemap_urls_2020.csv'\n",
    "files_2016_to_2019 = 'C://Users//kenns//Documents//StockProject//prnews//prnews//recent_sitemap_urls.csv'\n",
    "files_before_2016 = 'C://Users//kenns//Documents//StockProject//prnews//prnews//archive_sitemap_urls.csv'"
   ]
  },
  {
   "cell_type": "code",
   "execution_count": 11,
   "metadata": {},
   "outputs": [
    {
     "name": "stdout",
     "output_type": "stream",
     "text": [
      "<class 'pandas.core.frame.DataFrame'>\n",
      "RangeIndex: 105001 entries, 0 to 105000\n",
      "Data columns (total 2 columns):\n",
      " #   Column  Non-Null Count   Dtype \n",
      "---  ------  --------------   ----- \n",
      " 0   url     105001 non-null  object\n",
      " 1   dt      105001 non-null  object\n",
      "dtypes: object(2)\n",
      "memory usage: 1.6+ MB\n",
      "None\n"
     ]
    },
    {
     "data": {
      "image/png": "[encoded data removed]",
      "text/plain": [
       "<Figure size 432x288 with 1 Axes>"
      ]
     },
     "metadata": {
      "needs_background": "light"
     },
     "output_type": "display_data"
    }
   ],
   "source": [
    "urls_2020 = check_xml_filesize(files_2020)"
   ]
  },
  {
   "cell_type": "code",
   "execution_count": 12,
   "metadata": {},
   "outputs": [
    {
     "name": "stdout",
     "output_type": "stream",
     "text": [
      "<class 'pandas.core.frame.DataFrame'>\n",
      "RangeIndex: 869114 entries, 0 to 869113\n",
      "Data columns (total 2 columns):\n",
      " #   Column  Non-Null Count   Dtype \n",
      "---  ------  --------------   ----- \n",
      " 0   url     869114 non-null  object\n",
      " 1   dt      869114 non-null  object\n",
      "dtypes: object(2)\n",
      "memory usage: 13.3+ MB\n",
      "None\n"
     ]
    },
    {
     "data": {
      "image/png": "[encoded data removed]",
      "text/plain": [
       "<Figure size 432x288 with 1 Axes>"
      ]
     },
     "metadata": {
      "needs_background": "light"
     },
     "output_type": "display_data"
    }
   ],
   "source": [
    "urls_2016_to_2019 = check_xml_filesize(files_2016_to_2019)"
   ]
  },
  {
   "cell_type": "code",
   "execution_count": 16,
   "metadata": {},
   "outputs": [
    {
     "name": "stdout",
     "output_type": "stream",
     "text": [
      "<class 'pandas.core.frame.DataFrame'>\n",
      "RangeIndex: 999343 entries, 0 to 999342\n",
      "Data columns (total 2 columns):\n",
      " #   Column  Non-Null Count   Dtype \n",
      "---  ------  --------------   ----- \n",
      " 0   url     999343 non-null  object\n",
      " 1   dt      999343 non-null  object\n",
      "dtypes: object(2)\n",
      "memory usage: 15.2+ MB\n",
      "None\n"
     ]
    },
    {
     "data": {
      "image/png": "[encoded data removed]",
      "text/plain": [
       "<Figure size 432x288 with 1 Axes>"
      ]
     },
     "metadata": {
      "needs_background": "light"
     },
     "output_type": "display_data"
    }
   ],
   "source": [
    "urls_before_2016 = check_xml_filesize(files_before_2016)"
   ]
  },
  {
   "cell_type": "code",
   "execution_count": 13,
   "metadata": {},
   "outputs": [],
   "source": [
    "# urls_since_2016 = pd.DataFrame()\n",
    "urls_since_2016 = pd.concat([urls_2020, urls_2016_to_2019])\n",
    "urls_since_2016.drop_duplicates(inplace=True)"
   ]
  },
  {
   "cell_type": "code",
   "execution_count": 18,
   "metadata": {},
   "outputs": [],
   "source": [
    "all_urls = pd.concat([urls_since_2016, urls_before_2016])\n",
    "all_urls.drop_duplicates(inplace=True)"
   ]
  },
  {
   "cell_type": "code",
   "execution_count": 14,
   "metadata": {},
   "outputs": [
    {
     "data": {
      "text/html": [
       "<div>\n",
       "<style scoped>\n",
       "    .dataframe tbody tr th:only-of-type {\n",
       "        vertical-align: middle;\n",
       "    }\n",
       "\n",
       "    .dataframe tbody tr th {\n",
       "        vertical-align: top;\n",
       "    }\n",
       "\n",
       "    .dataframe thead th {\n",
       "        text-align: right;\n",
       "    }\n",
       "</style>\n",
       "<table border=\"1\" class=\"dataframe\">\n",
       "  <thead>\n",
       "    <tr style=\"text-align: right;\">\n",
       "      <th></th>\n",
       "      <th>url</th>\n",
       "      <th>dt</th>\n",
       "      <th>dt_dt</th>\n",
       "      <th>month</th>\n",
       "    </tr>\n",
       "  </thead>\n",
       "  <tbody>\n",
       "    <tr>\n",
       "      <th>count</th>\n",
       "      <td>939914</td>\n",
       "      <td>939914</td>\n",
       "      <td>939914</td>\n",
       "      <td>939914</td>\n",
       "    </tr>\n",
       "    <tr>\n",
       "      <th>unique</th>\n",
       "      <td>939831</td>\n",
       "      <td>52</td>\n",
       "      <td>52</td>\n",
       "      <td>52</td>\n",
       "    </tr>\n",
       "    <tr>\n",
       "      <th>top</th>\n",
       "      <td>https://www.prnewswire.com/news-releases/remak...</td>\n",
       "      <td>2018-05</td>\n",
       "      <td>2018-05-01 00:00:00</td>\n",
       "      <td>2018-05</td>\n",
       "    </tr>\n",
       "    <tr>\n",
       "      <th>freq</th>\n",
       "      <td>2</td>\n",
       "      <td>21975</td>\n",
       "      <td>21975</td>\n",
       "      <td>21975</td>\n",
       "    </tr>\n",
       "    <tr>\n",
       "      <th>first</th>\n",
       "      <td>NaN</td>\n",
       "      <td>NaN</td>\n",
       "      <td>2016-01-01 00:00:00</td>\n",
       "      <td>NaN</td>\n",
       "    </tr>\n",
       "    <tr>\n",
       "      <th>last</th>\n",
       "      <td>NaN</td>\n",
       "      <td>NaN</td>\n",
       "      <td>2020-04-01 00:00:00</td>\n",
       "      <td>NaN</td>\n",
       "    </tr>\n",
       "  </tbody>\n",
       "</table>\n",
       "</div>"
      ],
      "text/plain": [
       "                                                      url       dt  \\\n",
       "count                                              939914   939914   \n",
       "unique                                             939831       52   \n",
       "top     https://www.prnewswire.com/news-releases/remak...  2018-05   \n",
       "freq                                                    2    21975   \n",
       "first                                                 NaN      NaN   \n",
       "last                                                  NaN      NaN   \n",
       "\n",
       "                      dt_dt    month  \n",
       "count                939914   939914  \n",
       "unique                   52       52  \n",
       "top     2018-05-01 00:00:00  2018-05  \n",
       "freq                  21975    21975  \n",
       "first   2016-01-01 00:00:00      NaN  \n",
       "last    2020-04-01 00:00:00      NaN  "
      ]
     },
     "execution_count": 14,
     "metadata": {},
     "output_type": "execute_result"
    }
   ],
   "source": [
    "urls_since_2016.describe()"
   ]
  },
  {
   "cell_type": "code",
   "execution_count": 21,
   "metadata": {},
   "outputs": [
    {
     "data": {
      "text/plain": [
       "<matplotlib.axes._subplots.AxesSubplot at 0x14002b80a88>"
      ]
     },
     "execution_count": 21,
     "metadata": {},
     "output_type": "execute_result"
    },
    {
     "data": {
      "image/png": "[encoded data removed]",
      "text/plain": [
       "<Figure size 1440x1080 with 1 Axes>"
      ]
     },
     "metadata": {
      "needs_background": "light"
     },
     "output_type": "display_data"
    }
   ],
   "source": [
    "all_urls.groupby(by=['month'])['url'].count().plot(kind='bar', figsize=(20,15))"
   ]
  },
  {
   "cell_type": "code",
   "execution_count": 30,
   "metadata": {},
   "outputs": [
    {
     "data": {
      "text/plain": [
       "855988"
      ]
     },
     "execution_count": 30,
     "metadata": {},
     "output_type": "execute_result"
    }
   ],
   "source": [
    "all_urls[(all_urls['dt_dt']>'2011-12') & (all_urls['dt_dt']<'2016-01')].sort_values(by='dt_dt').dt_dt.count()"
   ]
  },
  {
   "cell_type": "code",
   "execution_count": 31,
   "metadata": {},
   "outputs": [
    {
     "data": {
      "text/plain": [
       "url      1939257\n",
       "dt       1939257\n",
       "dt_dt    1939257\n",
       "month    1939257\n",
       "dtype: int64"
      ]
     },
     "execution_count": 31,
     "metadata": {},
     "output_type": "execute_result"
    }
   ],
   "source": [
    "all_urls.count()"
   ]
  },
  {
   "cell_type": "code",
   "execution_count": null,
   "metadata": {},
   "outputs": [],
   "source": []
  }
 ],
 "metadata": {
  "kernelspec": {
   "display_name": "Python 3",
   "language": "python",
   "name": "python3"
  },
  "language_info": {
   "codemirror_mode": {
    "name": "ipython",
    "version": 3
   },
   "file_extension": ".py",
   "mimetype": "text/x-python",
   "name": "python",
   "nbconvert_exporter": "python",
   "pygments_lexer": "ipython3",
   "version": "3.7.7"
  }
 },
 "nbformat": 4,
 "nbformat_minor": 4
}
