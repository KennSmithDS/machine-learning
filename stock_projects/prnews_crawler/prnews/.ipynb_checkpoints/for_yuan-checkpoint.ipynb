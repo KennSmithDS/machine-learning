{
 "cells": [
  {
   "cell_type": "code",
   "execution_count": 32,
   "metadata": {},
   "outputs": [],
   "source": [
    "import numpy as np"
   ]
  },
  {
   "cell_type": "code",
   "execution_count": 26,
   "metadata": {},
   "outputs": [],
   "source": [
    "arr1 = np.random.randint(1,50, 30)\n",
    "arr1_median = int(round(np.median(arr1),0))"
   ]
  },
  {
   "cell_type": "code",
   "execution_count": 27,
   "metadata": {},
   "outputs": [
    {
     "data": {
      "text/plain": [
       "18"
      ]
     },
     "execution_count": 27,
     "metadata": {},
     "output_type": "execute_result"
    }
   ],
   "source": [
    "arr1_median"
   ]
  },
  {
   "cell_type": "code",
   "execution_count": 28,
   "metadata": {},
   "outputs": [
    {
     "data": {
      "text/plain": [
       "array(['37', '26', '37', '5', '39', '42', '25', '17', '3', '45', '33',\n",
       "       '34', '34', '1', '31', '13', '7', '2', '34', '35', '14', '19', '4',\n",
       "       '17', '29', '12', '1', '17', '18', '8'], dtype='<U2')"
      ]
     },
     "execution_count": 28,
     "metadata": {},
     "output_type": "execute_result"
    }
   ],
   "source": [
    "arr1 = np.array([str(elem) for elem in arr1])\n",
    "arr1"
   ]
  },
  {
   "cell_type": "code",
   "execution_count": 29,
   "metadata": {},
   "outputs": [],
   "source": [
    "arr1[10] = '?'\n",
    "arr1[15] = '?'\n",
    "arr1[20] = '?'"
   ]
  },
  {
   "cell_type": "code",
   "execution_count": 30,
   "metadata": {},
   "outputs": [],
   "source": [
    "def fill_median(arr, median):\n",
    "    new_arr = np.where(arr=='?', str(median), arr).astype(int)\n",
    "    return new_arr"
   ]
  },
  {
   "cell_type": "code",
   "execution_count": 31,
   "metadata": {},
   "outputs": [
    {
     "data": {
      "text/plain": [
       "array([37, 26, 37,  5, 39, 42, 25, 17,  3, 45, 18, 34, 34,  1, 31, 18,  7,\n",
       "        2, 34, 35, 18, 19,  4, 17, 29, 12,  1, 17, 18,  8])"
      ]
     },
     "execution_count": 31,
     "metadata": {},
     "output_type": "execute_result"
    }
   ],
   "source": [
    "clean_arr = fill_median(arr1, arr1_median)\n",
    "clean_arr"
   ]
  },
  {
   "cell_type": "code",
   "execution_count": 33,
   "metadata": {},
   "outputs": [],
   "source": [
    "from queue import LifoQueue"
   ]
  },
  {
   "cell_type": "code",
   "execution_count": 34,
   "metadata": {},
   "outputs": [],
   "source": [
    "stack = LifoQueue()"
   ]
  },
  {
   "cell_type": "code",
   "execution_count": 36,
   "metadata": {},
   "outputs": [],
   "source": [
    "for elem in clean_arr:\n",
    "    stack.put(elem)"
   ]
  },
  {
   "cell_type": "code",
   "execution_count": 37,
   "metadata": {},
   "outputs": [
    {
     "name": "stdout",
     "output_type": "stream",
     "text": [
      "8\n",
      "18\n",
      "17\n",
      "1\n",
      "12\n",
      "29\n",
      "17\n",
      "4\n",
      "19\n",
      "18\n",
      "35\n",
      "34\n",
      "2\n",
      "7\n",
      "18\n",
      "31\n",
      "1\n",
      "34\n",
      "34\n",
      "18\n",
      "45\n",
      "3\n",
      "17\n",
      "25\n",
      "42\n",
      "39\n",
      "5\n",
      "37\n",
      "26\n",
      "37\n",
      "Stack is empty\n"
     ]
    }
   ],
   "source": [
    "while stack.empty() == False:\n",
    "    curr = stack.get()\n",
    "    print(curr)\n",
    "    \n",
    "print('Stack is empty')"
   ]
  },
  {
   "cell_type": "code",
   "execution_count": null,
   "metadata": {},
   "outputs": [],
   "source": []
  }
 ],
 "metadata": {
  "kernelspec": {
   "display_name": "Python 3",
   "language": "python",
   "name": "python3"
  },
  "language_info": {
   "codemirror_mode": {
    "name": "ipython",
    "version": 3
   },
   "file_extension": ".py",
   "mimetype": "text/x-python",
   "name": "python",
   "nbconvert_exporter": "python",
   "pygments_lexer": "ipython3",
   "version": "3.7.6"
  }
 },
 "nbformat": 4,
 "nbformat_minor": 4
}
